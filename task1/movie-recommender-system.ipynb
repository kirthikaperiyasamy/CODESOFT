{
 "cells": [
  {
   "cell_type": "code",
   "execution_count": 2,
   "id": "9563468b-dd9b-4ea9-8d95-2e852e9ced84",
   "metadata": {},
   "outputs": [
    {
     "name": "stdout",
     "output_type": "stream",
     "text": [
      "Requirement already satisfied: pandas in c:\\users\\kirth\\appdata\\local\\programs\\python\\python312\\lib\\site-packages (2.2.0)"
     ]
    },
    {
     "name": "stderr",
     "output_type": "stream",
     "text": [
      "\n",
      "[notice] A new release of pip is available: 23.2.1 -> 24.0\n",
      "[notice] To update, run: python.exe -m pip install --upgrade pip\n"
     ]
    },
    {
     "name": "stdout",
     "output_type": "stream",
     "text": [
      "\n",
      "Requirement already satisfied: numpy<2,>=1.26.0 in c:\\users\\kirth\\appdata\\local\\programs\\python\\python312\\lib\\site-packages (from pandas) (1.26.3)\n",
      "Requirement already satisfied: python-dateutil>=2.8.2 in c:\\users\\kirth\\appdata\\local\\programs\\python\\python312\\lib\\site-packages (from pandas) (2.8.2)\n",
      "Requirement already satisfied: pytz>=2020.1 in c:\\users\\kirth\\appdata\\local\\programs\\python\\python312\\lib\\site-packages (from pandas) (2024.1)\n",
      "Requirement already satisfied: tzdata>=2022.7 in c:\\users\\kirth\\appdata\\local\\programs\\python\\python312\\lib\\site-packages (from pandas) (2023.4)\n",
      "Requirement already satisfied: six>=1.5 in c:\\users\\kirth\\appdata\\local\\programs\\python\\python312\\lib\\site-packages (from python-dateutil>=2.8.2->pandas) (1.16.0)\n"
     ]
    }
   ],
   "source": [
    "!pip install pandas"
   ]
  },
  {
   "cell_type": "code",
   "execution_count": 8,
   "id": "8eb55e20-8d4a-4919-88d9-056760f7f47b",
   "metadata": {},
   "outputs": [],
   "source": [
    "import pandas as pd\n",
    "import numpy as np"
   ]
  },
  {
   "cell_type": "code",
   "execution_count": 10,
   "id": "92080b5b-1cbf-4720-9cf2-6f91c8424619",
   "metadata": {},
   "outputs": [],
   "source": [
    "movies = pd.read_csv('tmdb_5000_movies.csv')\n",
    "# credits=pd.read_csv('tmdb_5000_credits_csv')"
   ]
  },
  {
   "cell_type": "code",
   "execution_count": 16,
   "id": "fff54696-76a0-453a-b5b8-e395bfa82217",
   "metadata": {},
   "outputs": [
    {
     "name": "stderr",
     "output_type": "stream",
     "text": [
      "C:\\Users\\kirth\\AppData\\Local\\Temp\\ipykernel_15384\\4041584114.py:1: DtypeWarning: Columns (0,4,5,6,7,8,9,10,11,12,13,14,15,16,17,18,19,20,21,22,23,24,25,26,27,28,29,30,31,32,33,34,35,36,37,38,39,40,41,42,43,44,45,46,47,48,49,50,51,52,53,54,55,56,57,58,59,60,61,62,63,64,65,66,67,68,69,70,71,72,73,74,75,76,77,78,79,80,81,82,83,84,85,86,87,88,89,90,91,92,93,94,95,96,97,98,99,100,101,102,103,104,105,106,107,108,109,110,111,112,113,114,115,116,117,118,119,120,121,122,123,124,125,126,127,128,129,130,131,132,133,134,135,136,137,138,139,140,141,142,143,144,145,146,147,148,149,150,151,152,153,154,155,156,157,158,159,160,161,162,163,164,165,166,167,168,169,170,171,172,173,174,175,176,177,178,179,180,181,182,183,184,185,186,187,188,189,190,191,192,193,194,195,196,197,198,199,200,201,202,203,204,205,206,207,208,209,210,211,212,213,214,215,216,217,218,219,220,221,222,223,224,225,226,227,228,229,230,231,232,233,234,235,236,237,238,239,240,241,242,243,244,245,246,247,248,249,250,251,252,253,254,255,256,257,258,259,260,261,262,263,264,265,266,267,268,269,270,271,272,273,274,275,276,277,278,279,280,281,282,283,284,285,286,287,288,289,290,291,292,293,294,295,296,297,298,299,300,301,302,303,304,305,306,307,308,309,310,311,312,313,314,315,316,317,318,319,320,321,322,323,324,325,326,327,328,329,330,331,332,333,334,335,336,337,338,339,340,341,342,343,344,345,346,347,348,349,350,351,352,353,354,355,356,357,358,359,360,361,362,363,364,365,366,367,368,369,370,371,372,373,374,375,376,377,378,379,380,381,382,383,384,385,386,387,388,389,390,391,392,393,394,395,396,397,398,399,400,401,402,403,404,405,406,407,408,409,410,411,412,413,414,415,416,417,418,419,420,421,422,423,424,425,426,427,428,429,430,431,432,433,434,435,436,437,438,439,440,441,442,443,444,445,446,447,448,449,450,451,452,453,454,455,456,457,458,459,460,461,462,463,464,465,466,467,468,469,470,471,472,473,474,475,476,477,478,479,480,481,482,483,484,485,486,487,488,489,490,491,492,493,494,495,496,497,498,499,500,501,502,503,504,505,506,507,508,509,510,511,512,513,514,515,516,517,518,519,520,521,522,523,524,525,526,527,528,529,530,531,532,533,534,535,536,537,538,539,540,541,542,543,544,545,546,547,548,549,550,551,552,553,554,555,556,557,558,559,560,561,562,563,564,565,566,567,568,569,570,571,572,573,574,575,576,577,578,579,580,581,582,583,584,585,586,587,588,589,590,591,592,593,594,595,596,597,598,599,600,601,602,603,604,605,606,607,608,609,610,611,612,613,614,615,616,617,618,619,620,621,622,623,624,625,626,627,628,629,630,631,632,633,634,635,636,637,638,639,640,641,642,643,644,645,646,647,648,649,650,651,652,653,654,655,656,657,658,659,660,661,662,663,664,665,666,667,668,669,670,671,672,673,674,675,676,677,678,679,680,681,682,683,684,685,686,687,688,689,690,691,692,693,694,695,696,697,698,699,700,701,702,703,704,705,706,707,708,709,710,711,712,713,714,715,716,717,718,719,720,721,722,723,724,725,726,727,728,729,730,731,732,733,734,735,736,737,738,739,740,741,742,743,744,745,746,747,748,749,750,751,752,753,754,755,756,757,758,759,760,761,762,763,764,765,766,767,768,769,770,771,772,773,774,775,776,777,778,779,780,781,782,783,784,785,786,787,788,789,790,791,792,793,794,795,796,797,798,799,800,801,802,803,804,805,806,807,808,809,810,811,812,813,814,815,816,817,818,819,820,821,822,823,824,825,826,827,828,829,830,831,832,833,834,835,836,837,838,839,840,841,842,843,844,845,846,847,848,849,850,851,852,853,854,855,856,857,858,859,860,861,862,863,864,865,866,867,868,869,870,871,872,873,874,875,876,877,878,879,880,881,882,883,884,885,886,887,888,889,890,891,892,893,894,895,896,897,898,899,900,901,902,903,904,905,906,907,908,909,910,911,912,913,914,915,916,917,918,919,920,921,922,923,924,925,926,927,928,929,930,931,932,933,934,935,936,937,938,939,940,941,942,943,944,945,946,947,948,949,950,951,952,953,954,955,956,957,958,959,960,961,962,963,964,965,966,967,968,969,970,971,972,973,974,975,976,977,978,979,980,981,982,983,984,985,986,987,988,989,990,991,992,993,994,995,996,997,998,999,1000,1001,1002,1003,1004,1005,1006,1007,1008,1009,1010,1011,1012,1013,1014,1015,1016,1017,1018,1019,1020,1021,1022,1023,1024,1025,1026,1027,1028,1029,1030,1031,1032,1033,1034,1035,1036,1037,1038,1039,1040,1041,1042,1043,1044,1045,1046,1047,1048,1049,1050,1051,1052,1053,1054,1055,1056,1057,1058,1059,1060,1061,1062,1063,1064,1065,1066,1067,1068,1069,1070,1071,1072,1073,1074,1075,1076,1077,1078,1079,1080,1081,1082,1083,1084,1085,1086,1087,1088,1089,1090,1091,1092,1093,1094,1095,1096,1097,1098,1099,1100,1101,1102,1103,1104,1105,1106,1107,1108,1109,1110,1111,1112,1113,1114,1115,1116,1117,1118,1119,1120,1121,1122,1123,1124,1125,1126,1127,1128,1129,1130,1131,1132,1133,1134,1135,1136,1137,1138,1139,1140,1141,1142,1143,1144,1145,1146,1147,1148,1149,1150,1151,1152,1153,1154,1155,1156,1157,1158,1159,1160,1161,1162,1163,1164,1165,1166,1167,1168,1169,1170,1171,1172,1173,1174,1175,1176,1177,1178,1179,1180,1181,1182,1183,1184,1185,1186,1187,1188,1189,1190,1191,1192,1193,1194,1195,1196,1197,1198,1199,1200,1201,1202,1203,1204,1205,1206,1207,1208,1209,1210,1211,1212,1213,1214,1215,1216,1217,1218,1219,1220,1221,1222,1223,1224,1225,1226,1227,1228,1229,1230,1231,1232,1233,1234,1235,1236,1237,1238,1239,1240,1241,1242,1243,1244,1245,1246,1247,1248,1249,1250,1251,1252,1253,1254,1255,1256,1257,1258,1259,1260,1261,1262,1263,1264) have mixed types. Specify dtype option on import or set low_memory=False.\n",
      "  credits=pd.read_csv('tmdb_5000_credits.csv')\n"
     ]
    }
   ],
   "source": [
    "credits=pd.read_csv('tmdb_5000_credits.csv')"
   ]
  },
  {
   "cell_type": "code",
   "execution_count": 17,
   "id": "9e1b7fcd-b7a8-4211-9e4f-2e3413856328",
   "metadata": {},
   "outputs": [
    {
     "data": {
      "text/html": [
       "<div>\n",
       "<style scoped>\n",
       "    .dataframe tbody tr th:only-of-type {\n",
       "        vertical-align: middle;\n",
       "    }\n",
       "\n",
       "    .dataframe tbody tr th {\n",
       "        vertical-align: top;\n",
       "    }\n",
       "\n",
       "    .dataframe thead th {\n",
       "        text-align: right;\n",
       "    }\n",
       "</style>\n",
       "<table border=\"1\" class=\"dataframe\">\n",
       "  <thead>\n",
       "    <tr style=\"text-align: right;\">\n",
       "      <th></th>\n",
       "      <th>movie_id</th>\n",
       "      <th>title</th>\n",
       "      <th>cast</th>\n",
       "      <th>crew</th>\n",
       "      <th>Unnamed: 4</th>\n",
       "      <th>Unnamed: 5</th>\n",
       "      <th>Unnamed: 6</th>\n",
       "      <th>Unnamed: 7</th>\n",
       "      <th>Unnamed: 8</th>\n",
       "      <th>Unnamed: 9</th>\n",
       "      <th>...</th>\n",
       "      <th>Unnamed: 1255</th>\n",
       "      <th>Unnamed: 1256</th>\n",
       "      <th>Unnamed: 1257</th>\n",
       "      <th>Unnamed: 1258</th>\n",
       "      <th>Unnamed: 1259</th>\n",
       "      <th>Unnamed: 1260</th>\n",
       "      <th>Unnamed: 1261</th>\n",
       "      <th>Unnamed: 1262</th>\n",
       "      <th>Unnamed: 1263</th>\n",
       "      <th>Unnamed: 1264</th>\n",
       "    </tr>\n",
       "  </thead>\n",
       "  <tbody>\n",
       "    <tr>\n",
       "      <th>0</th>\n",
       "      <td>19995</td>\n",
       "      <td>Avatar</td>\n",
       "      <td>[{\"cast_id\": 242, \"character\": \"Jake Sully\", \"...</td>\n",
       "      <td>[{\"credit_id\": \"52fe48009251416c750aca23\", \"de...</td>\n",
       "      <td>NaN</td>\n",
       "      <td>NaN</td>\n",
       "      <td>NaN</td>\n",
       "      <td>NaN</td>\n",
       "      <td>NaN</td>\n",
       "      <td>NaN</td>\n",
       "      <td>...</td>\n",
       "      <td>NaN</td>\n",
       "      <td>NaN</td>\n",
       "      <td>NaN</td>\n",
       "      <td>NaN</td>\n",
       "      <td>NaN</td>\n",
       "      <td>NaN</td>\n",
       "      <td>NaN</td>\n",
       "      <td>NaN</td>\n",
       "      <td>NaN</td>\n",
       "      <td>NaN</td>\n",
       "    </tr>\n",
       "    <tr>\n",
       "      <th>1</th>\n",
       "      <td>285</td>\n",
       "      <td>Pirates of the Caribbean: At World's End</td>\n",
       "      <td>[{\"cast_id\": 4, \"character\": \"Captain Jack Spa...</td>\n",
       "      <td>[{\"credit_id\": \"52fe4232c3a36847f800b579\", \"de...</td>\n",
       "      <td>NaN</td>\n",
       "      <td>NaN</td>\n",
       "      <td>NaN</td>\n",
       "      <td>NaN</td>\n",
       "      <td>NaN</td>\n",
       "      <td>NaN</td>\n",
       "      <td>...</td>\n",
       "      <td>NaN</td>\n",
       "      <td>NaN</td>\n",
       "      <td>NaN</td>\n",
       "      <td>NaN</td>\n",
       "      <td>NaN</td>\n",
       "      <td>NaN</td>\n",
       "      <td>NaN</td>\n",
       "      <td>NaN</td>\n",
       "      <td>NaN</td>\n",
       "      <td>NaN</td>\n",
       "    </tr>\n",
       "    <tr>\n",
       "      <th>2</th>\n",
       "      <td>206647</td>\n",
       "      <td>Spectre</td>\n",
       "      <td>[{\"cast_id\": 1, \"character\": \"James Bond\", \"cr...</td>\n",
       "      <td>[{\"credit_id\": \"54805967c3a36829b5002c41\", \"de...</td>\n",
       "      <td>NaN</td>\n",
       "      <td>NaN</td>\n",
       "      <td>NaN</td>\n",
       "      <td>NaN</td>\n",
       "      <td>NaN</td>\n",
       "      <td>NaN</td>\n",
       "      <td>...</td>\n",
       "      <td>NaN</td>\n",
       "      <td>NaN</td>\n",
       "      <td>NaN</td>\n",
       "      <td>NaN</td>\n",
       "      <td>NaN</td>\n",
       "      <td>NaN</td>\n",
       "      <td>NaN</td>\n",
       "      <td>NaN</td>\n",
       "      <td>NaN</td>\n",
       "      <td>NaN</td>\n",
       "    </tr>\n",
       "    <tr>\n",
       "      <th>3</th>\n",
       "      <td>49026</td>\n",
       "      <td>The Dark Knight Rises</td>\n",
       "      <td>[{\"cast_id\": 2, \"character\": \"Bruce Wayne / Ba...</td>\n",
       "      <td>[{\"credit_id\": \"52fe4781c3a36847f81398c3\", \"de...</td>\n",
       "      <td>NaN</td>\n",
       "      <td>NaN</td>\n",
       "      <td>NaN</td>\n",
       "      <td>NaN</td>\n",
       "      <td>NaN</td>\n",
       "      <td>NaN</td>\n",
       "      <td>...</td>\n",
       "      <td>NaN</td>\n",
       "      <td>NaN</td>\n",
       "      <td>NaN</td>\n",
       "      <td>NaN</td>\n",
       "      <td>NaN</td>\n",
       "      <td>NaN</td>\n",
       "      <td>NaN</td>\n",
       "      <td>NaN</td>\n",
       "      <td>NaN</td>\n",
       "      <td>NaN</td>\n",
       "    </tr>\n",
       "    <tr>\n",
       "      <th>4</th>\n",
       "      <td>49529</td>\n",
       "      <td>John Carter</td>\n",
       "      <td>[{\"cast_id\": 5, \"character\": \"John Carter\", \"c...</td>\n",
       "      <td>[{\"credit_id\": \"52fe479ac3a36847f813eaa3\", \"de...</td>\n",
       "      <td>NaN</td>\n",
       "      <td>NaN</td>\n",
       "      <td>NaN</td>\n",
       "      <td>NaN</td>\n",
       "      <td>NaN</td>\n",
       "      <td>NaN</td>\n",
       "      <td>...</td>\n",
       "      <td>NaN</td>\n",
       "      <td>NaN</td>\n",
       "      <td>NaN</td>\n",
       "      <td>NaN</td>\n",
       "      <td>NaN</td>\n",
       "      <td>NaN</td>\n",
       "      <td>NaN</td>\n",
       "      <td>NaN</td>\n",
       "      <td>NaN</td>\n",
       "      <td>NaN</td>\n",
       "    </tr>\n",
       "  </tbody>\n",
       "</table>\n",
       "<p>5 rows × 1265 columns</p>\n",
       "</div>"
      ],
      "text/plain": [
       "  movie_id                                     title  \\\n",
       "0    19995                                    Avatar   \n",
       "1      285  Pirates of the Caribbean: At World's End   \n",
       "2   206647                                   Spectre   \n",
       "3    49026                     The Dark Knight Rises   \n",
       "4    49529                               John Carter   \n",
       "\n",
       "                                                cast  \\\n",
       "0  [{\"cast_id\": 242, \"character\": \"Jake Sully\", \"...   \n",
       "1  [{\"cast_id\": 4, \"character\": \"Captain Jack Spa...   \n",
       "2  [{\"cast_id\": 1, \"character\": \"James Bond\", \"cr...   \n",
       "3  [{\"cast_id\": 2, \"character\": \"Bruce Wayne / Ba...   \n",
       "4  [{\"cast_id\": 5, \"character\": \"John Carter\", \"c...   \n",
       "\n",
       "                                                crew Unnamed: 4 Unnamed: 5  \\\n",
       "0  [{\"credit_id\": \"52fe48009251416c750aca23\", \"de...        NaN        NaN   \n",
       "1  [{\"credit_id\": \"52fe4232c3a36847f800b579\", \"de...        NaN        NaN   \n",
       "2  [{\"credit_id\": \"54805967c3a36829b5002c41\", \"de...        NaN        NaN   \n",
       "3  [{\"credit_id\": \"52fe4781c3a36847f81398c3\", \"de...        NaN        NaN   \n",
       "4  [{\"credit_id\": \"52fe479ac3a36847f813eaa3\", \"de...        NaN        NaN   \n",
       "\n",
       "  Unnamed: 6 Unnamed: 7 Unnamed: 8 Unnamed: 9  ... Unnamed: 1255  \\\n",
       "0        NaN        NaN        NaN        NaN  ...           NaN   \n",
       "1        NaN        NaN        NaN        NaN  ...           NaN   \n",
       "2        NaN        NaN        NaN        NaN  ...           NaN   \n",
       "3        NaN        NaN        NaN        NaN  ...           NaN   \n",
       "4        NaN        NaN        NaN        NaN  ...           NaN   \n",
       "\n",
       "  Unnamed: 1256 Unnamed: 1257 Unnamed: 1258 Unnamed: 1259 Unnamed: 1260  \\\n",
       "0           NaN           NaN           NaN           NaN           NaN   \n",
       "1           NaN           NaN           NaN           NaN           NaN   \n",
       "2           NaN           NaN           NaN           NaN           NaN   \n",
       "3           NaN           NaN           NaN           NaN           NaN   \n",
       "4           NaN           NaN           NaN           NaN           NaN   \n",
       "\n",
       "  Unnamed: 1261 Unnamed: 1262 Unnamed: 1263 Unnamed: 1264  \n",
       "0           NaN           NaN           NaN           NaN  \n",
       "1           NaN           NaN           NaN           NaN  \n",
       "2           NaN           NaN           NaN           NaN  \n",
       "3           NaN           NaN           NaN           NaN  \n",
       "4           NaN           NaN           NaN           NaN  \n",
       "\n",
       "[5 rows x 1265 columns]"
      ]
     },
     "execution_count": 17,
     "metadata": {},
     "output_type": "execute_result"
    }
   ],
   "source": [
    "credits.head(5)"
   ]
  },
  {
   "cell_type": "code",
   "execution_count": 18,
   "id": "d8456995-fc8a-4ded-b4ea-85ac6ecc2335",
   "metadata": {},
   "outputs": [
    {
     "data": {
      "text/html": [
       "<div>\n",
       "<style scoped>\n",
       "    .dataframe tbody tr th:only-of-type {\n",
       "        vertical-align: middle;\n",
       "    }\n",
       "\n",
       "    .dataframe tbody tr th {\n",
       "        vertical-align: top;\n",
       "    }\n",
       "\n",
       "    .dataframe thead th {\n",
       "        text-align: right;\n",
       "    }\n",
       "</style>\n",
       "<table border=\"1\" class=\"dataframe\">\n",
       "  <thead>\n",
       "    <tr style=\"text-align: right;\">\n",
       "      <th></th>\n",
       "      <th>budget</th>\n",
       "      <th>genres</th>\n",
       "      <th>homepage</th>\n",
       "      <th>id</th>\n",
       "      <th>keywords</th>\n",
       "      <th>original_language</th>\n",
       "      <th>original_title</th>\n",
       "      <th>overview</th>\n",
       "      <th>popularity</th>\n",
       "      <th>production_companies</th>\n",
       "      <th>production_countries</th>\n",
       "      <th>release_date</th>\n",
       "      <th>revenue</th>\n",
       "      <th>runtime</th>\n",
       "      <th>spoken_languages</th>\n",
       "      <th>status</th>\n",
       "      <th>tagline</th>\n",
       "      <th>title</th>\n",
       "      <th>vote_average</th>\n",
       "      <th>vote_count</th>\n",
       "    </tr>\n",
       "  </thead>\n",
       "  <tbody>\n",
       "    <tr>\n",
       "      <th>0</th>\n",
       "      <td>237000000</td>\n",
       "      <td>[{\"id\": 28, \"name\": \"Action\"}, {\"id\": 12, \"nam...</td>\n",
       "      <td>http://www.avatarmovie.com/</td>\n",
       "      <td>19995</td>\n",
       "      <td>[{\"id\": 1463, \"name\": \"culture clash\"}, {\"id\":...</td>\n",
       "      <td>en</td>\n",
       "      <td>Avatar</td>\n",
       "      <td>In the 22nd century, a paraplegic Marine is di...</td>\n",
       "      <td>150.437577</td>\n",
       "      <td>[{\"name\": \"Ingenious Film Partners\", \"id\": 289...</td>\n",
       "      <td>[{\"iso_3166_1\": \"US\", \"name\": \"United States o...</td>\n",
       "      <td>10-12-2009</td>\n",
       "      <td>2787965087</td>\n",
       "      <td>162.0</td>\n",
       "      <td>[{\"iso_639_1\": \"en\", \"name\": \"English\"}, {\"iso...</td>\n",
       "      <td>Released</td>\n",
       "      <td>Enter the World of Pandora.</td>\n",
       "      <td>Avatar</td>\n",
       "      <td>7.2</td>\n",
       "      <td>11800</td>\n",
       "    </tr>\n",
       "  </tbody>\n",
       "</table>\n",
       "</div>"
      ],
      "text/plain": [
       "      budget                                             genres  \\\n",
       "0  237000000  [{\"id\": 28, \"name\": \"Action\"}, {\"id\": 12, \"nam...   \n",
       "\n",
       "                      homepage     id  \\\n",
       "0  http://www.avatarmovie.com/  19995   \n",
       "\n",
       "                                            keywords original_language  \\\n",
       "0  [{\"id\": 1463, \"name\": \"culture clash\"}, {\"id\":...                en   \n",
       "\n",
       "  original_title                                           overview  \\\n",
       "0         Avatar  In the 22nd century, a paraplegic Marine is di...   \n",
       "\n",
       "   popularity                               production_companies  \\\n",
       "0  150.437577  [{\"name\": \"Ingenious Film Partners\", \"id\": 289...   \n",
       "\n",
       "                                production_countries release_date     revenue  \\\n",
       "0  [{\"iso_3166_1\": \"US\", \"name\": \"United States o...   10-12-2009  2787965087   \n",
       "\n",
       "   runtime                                   spoken_languages    status  \\\n",
       "0    162.0  [{\"iso_639_1\": \"en\", \"name\": \"English\"}, {\"iso...  Released   \n",
       "\n",
       "                       tagline   title  vote_average  vote_count  \n",
       "0  Enter the World of Pandora.  Avatar           7.2       11800  "
      ]
     },
     "execution_count": 18,
     "metadata": {},
     "output_type": "execute_result"
    }
   ],
   "source": [
    "movies.head(1)"
   ]
  },
  {
   "cell_type": "code",
   "execution_count": 19,
   "id": "e147b6da-16d8-4cf6-9d11-8258fc926901",
   "metadata": {},
   "outputs": [
    {
     "data": {
      "text/plain": [
       "(4809, 1284)"
      ]
     },
     "execution_count": 19,
     "metadata": {},
     "output_type": "execute_result"
    }
   ],
   "source": [
    "movies.merge(credits,on=\"title\")"
   ]
  },
  {
   "cell_type": "code",
   "execution_count": 20,
   "id": "7d25eae1-a8e4-4575-9668-9525d422910a",
   "metadata": {},
   "outputs": [],
   "source": [
    "movies=movies.merge(credits,on=\"title\")"
   ]
  },
  {
   "cell_type": "code",
   "execution_count": 21,
   "id": "834483a1-dbee-4a08-98e2-d382316191e3",
   "metadata": {},
   "outputs": [
    {
     "data": {
      "text/html": [
       "<div>\n",
       "<style scoped>\n",
       "    .dataframe tbody tr th:only-of-type {\n",
       "        vertical-align: middle;\n",
       "    }\n",
       "\n",
       "    .dataframe tbody tr th {\n",
       "        vertical-align: top;\n",
       "    }\n",
       "\n",
       "    .dataframe thead th {\n",
       "        text-align: right;\n",
       "    }\n",
       "</style>\n",
       "<table border=\"1\" class=\"dataframe\">\n",
       "  <thead>\n",
       "    <tr style=\"text-align: right;\">\n",
       "      <th></th>\n",
       "      <th>budget</th>\n",
       "      <th>genres</th>\n",
       "      <th>homepage</th>\n",
       "      <th>id</th>\n",
       "      <th>keywords</th>\n",
       "      <th>original_language</th>\n",
       "      <th>original_title</th>\n",
       "      <th>overview</th>\n",
       "      <th>popularity</th>\n",
       "      <th>production_companies</th>\n",
       "      <th>...</th>\n",
       "      <th>Unnamed: 1255</th>\n",
       "      <th>Unnamed: 1256</th>\n",
       "      <th>Unnamed: 1257</th>\n",
       "      <th>Unnamed: 1258</th>\n",
       "      <th>Unnamed: 1259</th>\n",
       "      <th>Unnamed: 1260</th>\n",
       "      <th>Unnamed: 1261</th>\n",
       "      <th>Unnamed: 1262</th>\n",
       "      <th>Unnamed: 1263</th>\n",
       "      <th>Unnamed: 1264</th>\n",
       "    </tr>\n",
       "  </thead>\n",
       "  <tbody>\n",
       "    <tr>\n",
       "      <th>0</th>\n",
       "      <td>237000000</td>\n",
       "      <td>[{\"id\": 28, \"name\": \"Action\"}, {\"id\": 12, \"nam...</td>\n",
       "      <td>http://www.avatarmovie.com/</td>\n",
       "      <td>19995</td>\n",
       "      <td>[{\"id\": 1463, \"name\": \"culture clash\"}, {\"id\":...</td>\n",
       "      <td>en</td>\n",
       "      <td>Avatar</td>\n",
       "      <td>In the 22nd century, a paraplegic Marine is di...</td>\n",
       "      <td>150.437577</td>\n",
       "      <td>[{\"name\": \"Ingenious Film Partners\", \"id\": 289...</td>\n",
       "      <td>...</td>\n",
       "      <td>NaN</td>\n",
       "      <td>NaN</td>\n",
       "      <td>NaN</td>\n",
       "      <td>NaN</td>\n",
       "      <td>NaN</td>\n",
       "      <td>NaN</td>\n",
       "      <td>NaN</td>\n",
       "      <td>NaN</td>\n",
       "      <td>NaN</td>\n",
       "      <td>NaN</td>\n",
       "    </tr>\n",
       "  </tbody>\n",
       "</table>\n",
       "<p>1 rows × 1284 columns</p>\n",
       "</div>"
      ],
      "text/plain": [
       "      budget                                             genres  \\\n",
       "0  237000000  [{\"id\": 28, \"name\": \"Action\"}, {\"id\": 12, \"nam...   \n",
       "\n",
       "                      homepage     id  \\\n",
       "0  http://www.avatarmovie.com/  19995   \n",
       "\n",
       "                                            keywords original_language  \\\n",
       "0  [{\"id\": 1463, \"name\": \"culture clash\"}, {\"id\":...                en   \n",
       "\n",
       "  original_title                                           overview  \\\n",
       "0         Avatar  In the 22nd century, a paraplegic Marine is di...   \n",
       "\n",
       "   popularity                               production_companies  ...  \\\n",
       "0  150.437577  [{\"name\": \"Ingenious Film Partners\", \"id\": 289...  ...   \n",
       "\n",
       "  Unnamed: 1255 Unnamed: 1256  Unnamed: 1257  Unnamed: 1258 Unnamed: 1259  \\\n",
       "0           NaN           NaN            NaN            NaN           NaN   \n",
       "\n",
       "  Unnamed: 1260 Unnamed: 1261 Unnamed: 1262  Unnamed: 1263  Unnamed: 1264  \n",
       "0           NaN           NaN           NaN            NaN            NaN  \n",
       "\n",
       "[1 rows x 1284 columns]"
      ]
     },
     "execution_count": 21,
     "metadata": {},
     "output_type": "execute_result"
    }
   ],
   "source": [
    "movies.head(1)"
   ]
  },
  {
   "cell_type": "code",
   "execution_count": 22,
   "id": "09d01633-edce-450d-915c-3ef703412caf",
   "metadata": {},
   "outputs": [
    {
     "data": {
      "text/plain": [
       "original_language\n",
       "en    4510\n",
       "fr      70\n",
       "es      32\n",
       "zh      27\n",
       "de      27\n",
       "hi      19\n",
       "ja      16\n",
       "it      14\n",
       "ko      12\n",
       "cn      12\n",
       "ru      11\n",
       "pt       9\n",
       "da       7\n",
       "sv       5\n",
       "nl       4\n",
       "fa       4\n",
       "th       3\n",
       "he       3\n",
       "ta       2\n",
       "cs       2\n",
       "ro       2\n",
       "id       2\n",
       "ar       2\n",
       "vi       1\n",
       "sl       1\n",
       "ps       1\n",
       "no       1\n",
       "ky       1\n",
       "hu       1\n",
       "pl       1\n",
       "af       1\n",
       "nb       1\n",
       "tr       1\n",
       "is       1\n",
       "xx       1\n",
       "te       1\n",
       "el       1\n",
       "Name: count, dtype: int64"
      ]
     },
     "execution_count": 22,
     "metadata": {},
     "output_type": "execute_result"
    }
   ],
   "source": [
    "movies['original_language'].value_counts()"
   ]
  },
  {
   "cell_type": "code",
   "execution_count": 23,
   "id": "e2cc502f-7651-4ce0-9917-45497acb3e5f",
   "metadata": {},
   "outputs": [],
   "source": [
    "movies=movies[['movie_id','title','overview','genres','keywords','cast','crew']]"
   ]
  },
  {
   "cell_type": "code",
   "execution_count": 24,
   "id": "28a8d456-95e7-41d1-8aaa-8e315241e949",
   "metadata": {},
   "outputs": [
    {
     "data": {
      "text/html": [
       "<div>\n",
       "<style scoped>\n",
       "    .dataframe tbody tr th:only-of-type {\n",
       "        vertical-align: middle;\n",
       "    }\n",
       "\n",
       "    .dataframe tbody tr th {\n",
       "        vertical-align: top;\n",
       "    }\n",
       "\n",
       "    .dataframe thead th {\n",
       "        text-align: right;\n",
       "    }\n",
       "</style>\n",
       "<table border=\"1\" class=\"dataframe\">\n",
       "  <thead>\n",
       "    <tr style=\"text-align: right;\">\n",
       "      <th></th>\n",
       "      <th>movie_id</th>\n",
       "      <th>title</th>\n",
       "      <th>overview</th>\n",
       "      <th>genres</th>\n",
       "      <th>keywords</th>\n",
       "      <th>cast</th>\n",
       "      <th>crew</th>\n",
       "    </tr>\n",
       "  </thead>\n",
       "  <tbody>\n",
       "    <tr>\n",
       "      <th>0</th>\n",
       "      <td>19995</td>\n",
       "      <td>Avatar</td>\n",
       "      <td>In the 22nd century, a paraplegic Marine is di...</td>\n",
       "      <td>[{\"id\": 28, \"name\": \"Action\"}, {\"id\": 12, \"nam...</td>\n",
       "      <td>[{\"id\": 1463, \"name\": \"culture clash\"}, {\"id\":...</td>\n",
       "      <td>[{\"cast_id\": 242, \"character\": \"Jake Sully\", \"...</td>\n",
       "      <td>[{\"credit_id\": \"52fe48009251416c750aca23\", \"de...</td>\n",
       "    </tr>\n",
       "  </tbody>\n",
       "</table>\n",
       "</div>"
      ],
      "text/plain": [
       "  movie_id   title                                           overview  \\\n",
       "0    19995  Avatar  In the 22nd century, a paraplegic Marine is di...   \n",
       "\n",
       "                                              genres  \\\n",
       "0  [{\"id\": 28, \"name\": \"Action\"}, {\"id\": 12, \"nam...   \n",
       "\n",
       "                                            keywords  \\\n",
       "0  [{\"id\": 1463, \"name\": \"culture clash\"}, {\"id\":...   \n",
       "\n",
       "                                                cast  \\\n",
       "0  [{\"cast_id\": 242, \"character\": \"Jake Sully\", \"...   \n",
       "\n",
       "                                                crew  \n",
       "0  [{\"credit_id\": \"52fe48009251416c750aca23\", \"de...  "
      ]
     },
     "execution_count": 24,
     "metadata": {},
     "output_type": "execute_result"
    }
   ],
   "source": [
    "movies.head(1)"
   ]
  },
  {
   "cell_type": "code",
   "execution_count": 26,
   "id": "771cc7d2-c8f7-47c9-bceb-70733447f738",
   "metadata": {},
   "outputs": [
    {
     "data": {
      "text/plain": [
       "movie_id    0\n",
       "title       0\n",
       "overview    3\n",
       "genres      0\n",
       "keywords    0\n",
       "cast        0\n",
       "crew        4\n",
       "dtype: int64"
      ]
     },
     "execution_count": 26,
     "metadata": {},
     "output_type": "execute_result"
    }
   ],
   "source": [
    "movies.isnull().sum()"
   ]
  },
  {
   "cell_type": "code",
   "execution_count": 27,
   "id": "6db79544-ba3b-4a78-b40d-63b66c639964",
   "metadata": {},
   "outputs": [],
   "source": [
    "movies.dropna(inplace=True)"
   ]
  },
  {
   "cell_type": "code",
   "execution_count": 29,
   "id": "6d0040e8-49ce-4a79-a249-c9988dab1e89",
   "metadata": {},
   "outputs": [
    {
     "data": {
      "text/plain": [
       "movie_id    0\n",
       "title       0\n",
       "overview    0\n",
       "genres      0\n",
       "keywords    0\n",
       "cast        0\n",
       "crew        0\n",
       "dtype: int64"
      ]
     },
     "execution_count": 29,
     "metadata": {},
     "output_type": "execute_result"
    }
   ],
   "source": [
    "movies.isnull().sum()"
   ]
  },
  {
   "cell_type": "code",
   "execution_count": 30,
   "id": "ae345ff4-0ace-4130-8717-38d3884d5e2c",
   "metadata": {},
   "outputs": [
    {
     "data": {
      "text/plain": [
       "0"
      ]
     },
     "execution_count": 30,
     "metadata": {},
     "output_type": "execute_result"
    }
   ],
   "source": [
    "movies.duplicated().sum()"
   ]
  },
  {
   "cell_type": "code",
   "execution_count": 32,
   "id": "0c62fba7-0a11-466c-b306-66951f25e8ec",
   "metadata": {},
   "outputs": [
    {
     "data": {
      "text/plain": [
       "'[{\"id\": 28, \"name\": \"Action\"}, {\"id\": 12, \"name\": \"Adventure\"}, {\"id\": 14, \"name\": \"Fantasy\"}, {\"id\": 878, \"name\": \"Science Fiction\"}]'"
      ]
     },
     "execution_count": 32,
     "metadata": {},
     "output_type": "execute_result"
    }
   ],
   "source": [
    "movies.iloc[0].genres"
   ]
  },
  {
   "cell_type": "code",
   "execution_count": 35,
   "id": "78cc43f7-90ea-4614-8fd5-051c2054d5e0",
   "metadata": {},
   "outputs": [],
   "source": [
    "import ast"
   ]
  },
  {
   "cell_type": "code",
   "execution_count": 33,
   "id": "8eb7b0ed-7d9b-4446-a34c-db0474abc819",
   "metadata": {},
   "outputs": [],
   "source": [
    "\n",
    "def convert(obj):\n",
    "    l=[]\n",
    "    for i in ast.literal_eval(obj):\n",
    "        l.append(i['name'])\n",
    "    return l"
   ]
  },
  {
   "cell_type": "code",
   "execution_count": 36,
   "id": "a4e6a1f4-2d27-4a8b-8bb4-9cf6d49afca4",
   "metadata": {},
   "outputs": [],
   "source": [
    "movies['genres']=movies['genres'].apply(convert)"
   ]
  },
  {
   "cell_type": "code",
   "execution_count": 37,
   "id": "29369c8d-ad60-4e3c-bb13-4d895d25ba8b",
   "metadata": {},
   "outputs": [
    {
     "data": {
      "text/html": [
       "<div>\n",
       "<style scoped>\n",
       "    .dataframe tbody tr th:only-of-type {\n",
       "        vertical-align: middle;\n",
       "    }\n",
       "\n",
       "    .dataframe tbody tr th {\n",
       "        vertical-align: top;\n",
       "    }\n",
       "\n",
       "    .dataframe thead th {\n",
       "        text-align: right;\n",
       "    }\n",
       "</style>\n",
       "<table border=\"1\" class=\"dataframe\">\n",
       "  <thead>\n",
       "    <tr style=\"text-align: right;\">\n",
       "      <th></th>\n",
       "      <th>movie_id</th>\n",
       "      <th>title</th>\n",
       "      <th>overview</th>\n",
       "      <th>genres</th>\n",
       "      <th>keywords</th>\n",
       "      <th>cast</th>\n",
       "      <th>crew</th>\n",
       "    </tr>\n",
       "  </thead>\n",
       "  <tbody>\n",
       "    <tr>\n",
       "      <th>0</th>\n",
       "      <td>19995</td>\n",
       "      <td>Avatar</td>\n",
       "      <td>In the 22nd century, a paraplegic Marine is di...</td>\n",
       "      <td>[Action, Adventure, Fantasy, Science Fiction]</td>\n",
       "      <td>[{\"id\": 1463, \"name\": \"culture clash\"}, {\"id\":...</td>\n",
       "      <td>[{\"cast_id\": 242, \"character\": \"Jake Sully\", \"...</td>\n",
       "      <td>[{\"credit_id\": \"52fe48009251416c750aca23\", \"de...</td>\n",
       "    </tr>\n",
       "  </tbody>\n",
       "</table>\n",
       "</div>"
      ],
      "text/plain": [
       "  movie_id   title                                           overview  \\\n",
       "0    19995  Avatar  In the 22nd century, a paraplegic Marine is di...   \n",
       "\n",
       "                                          genres  \\\n",
       "0  [Action, Adventure, Fantasy, Science Fiction]   \n",
       "\n",
       "                                            keywords  \\\n",
       "0  [{\"id\": 1463, \"name\": \"culture clash\"}, {\"id\":...   \n",
       "\n",
       "                                                cast  \\\n",
       "0  [{\"cast_id\": 242, \"character\": \"Jake Sully\", \"...   \n",
       "\n",
       "                                                crew  \n",
       "0  [{\"credit_id\": \"52fe48009251416c750aca23\", \"de...  "
      ]
     },
     "execution_count": 37,
     "metadata": {},
     "output_type": "execute_result"
    }
   ],
   "source": [
    "movies.head(1)"
   ]
  },
  {
   "cell_type": "code",
   "execution_count": 38,
   "id": "e4972da4-3165-474d-848f-ba4c5ccc8ae6",
   "metadata": {},
   "outputs": [],
   "source": [
    "movies['keywords']=movies['keywords'].apply(convert)"
   ]
  },
  {
   "cell_type": "code",
   "execution_count": 40,
   "id": "95eec89d-3f0e-4f3d-930c-7d68e66c2c46",
   "metadata": {},
   "outputs": [],
   "source": [
    "def convert_cast(obj):\n",
    "    l=[]\n",
    "    counter=0\n",
    "    for i in ast.literal_eval(obj):\n",
    "        if counter!=3:\n",
    "             l.append(i['name'])\n",
    "             counter+=1\n",
    "        else:\n",
    "            break\n",
    "    \n",
    "    return l"
   ]
  },
  {
   "cell_type": "code",
   "execution_count": 41,
   "id": "e7269465-12eb-415f-93a0-0df5df3f3f49",
   "metadata": {},
   "outputs": [],
   "source": [
    "movies['cast']=movies['cast'].apply(convert_cast)"
   ]
  },
  {
   "cell_type": "code",
   "execution_count": 42,
   "id": "19d99d7c-5590-4c9b-b3b7-d3ba0b8f387d",
   "metadata": {},
   "outputs": [
    {
     "data": {
      "text/html": [
       "<div>\n",
       "<style scoped>\n",
       "    .dataframe tbody tr th:only-of-type {\n",
       "        vertical-align: middle;\n",
       "    }\n",
       "\n",
       "    .dataframe tbody tr th {\n",
       "        vertical-align: top;\n",
       "    }\n",
       "\n",
       "    .dataframe thead th {\n",
       "        text-align: right;\n",
       "    }\n",
       "</style>\n",
       "<table border=\"1\" class=\"dataframe\">\n",
       "  <thead>\n",
       "    <tr style=\"text-align: right;\">\n",
       "      <th></th>\n",
       "      <th>movie_id</th>\n",
       "      <th>title</th>\n",
       "      <th>overview</th>\n",
       "      <th>genres</th>\n",
       "      <th>keywords</th>\n",
       "      <th>cast</th>\n",
       "      <th>crew</th>\n",
       "    </tr>\n",
       "  </thead>\n",
       "  <tbody>\n",
       "    <tr>\n",
       "      <th>0</th>\n",
       "      <td>19995</td>\n",
       "      <td>Avatar</td>\n",
       "      <td>In the 22nd century, a paraplegic Marine is di...</td>\n",
       "      <td>[Action, Adventure, Fantasy, Science Fiction]</td>\n",
       "      <td>[culture clash, future, space war, space colon...</td>\n",
       "      <td>[Sam Worthington, Zoe Saldana, Sigourney Weaver]</td>\n",
       "      <td>[{\"credit_id\": \"52fe48009251416c750aca23\", \"de...</td>\n",
       "    </tr>\n",
       "  </tbody>\n",
       "</table>\n",
       "</div>"
      ],
      "text/plain": [
       "  movie_id   title                                           overview  \\\n",
       "0    19995  Avatar  In the 22nd century, a paraplegic Marine is di...   \n",
       "\n",
       "                                          genres  \\\n",
       "0  [Action, Adventure, Fantasy, Science Fiction]   \n",
       "\n",
       "                                            keywords  \\\n",
       "0  [culture clash, future, space war, space colon...   \n",
       "\n",
       "                                               cast  \\\n",
       "0  [Sam Worthington, Zoe Saldana, Sigourney Weaver]   \n",
       "\n",
       "                                                crew  \n",
       "0  [{\"credit_id\": \"52fe48009251416c750aca23\", \"de...  "
      ]
     },
     "execution_count": 42,
     "metadata": {},
     "output_type": "execute_result"
    }
   ],
   "source": [
    "movies.head(1)"
   ]
  },
  {
   "cell_type": "code",
   "execution_count": 97,
   "id": "4da57e32-13d6-48e0-8cc8-a26b9a27c2d3",
   "metadata": {},
   "outputs": [],
   "source": [
    "def fetch_director(obj):\n",
    "    l=[]\n",
    "    for i in ast.literal_eval(obj):\n",
    "        if i['job'] == \"Director\":\n",
    "            l.append(i['name'])\n",
    "            break\n",
    "    return l"
   ]
  },
  {
   "cell_type": "code",
   "execution_count": null,
   "id": "8e8cf3b0-f30b-4afb-b278-838c95940b64",
   "metadata": {},
   "outputs": [],
   "source": []
  },
  {
   "cell_type": "code",
   "execution_count": 99,
   "id": "ce001f35-1661-45a0-933d-cb9b43188f2d",
   "metadata": {},
   "outputs": [],
   "source": [
    "movies['overview']=movies['overview'].apply(lambda x:x.split())"
   ]
  },
  {
   "cell_type": "code",
   "execution_count": 100,
   "id": "5fa8529f-64c1-4c8a-9746-27195aa72009",
   "metadata": {},
   "outputs": [
    {
     "data": {
      "text/html": [
       "<div>\n",
       "<style scoped>\n",
       "    .dataframe tbody tr th:only-of-type {\n",
       "        vertical-align: middle;\n",
       "    }\n",
       "\n",
       "    .dataframe tbody tr th {\n",
       "        vertical-align: top;\n",
       "    }\n",
       "\n",
       "    .dataframe thead th {\n",
       "        text-align: right;\n",
       "    }\n",
       "</style>\n",
       "<table border=\"1\" class=\"dataframe\">\n",
       "  <thead>\n",
       "    <tr style=\"text-align: right;\">\n",
       "      <th></th>\n",
       "      <th>movie_id</th>\n",
       "      <th>title</th>\n",
       "      <th>overview</th>\n",
       "      <th>genres</th>\n",
       "      <th>keywords</th>\n",
       "      <th>cast</th>\n",
       "      <th>crew</th>\n",
       "    </tr>\n",
       "  </thead>\n",
       "  <tbody>\n",
       "    <tr>\n",
       "      <th>0</th>\n",
       "      <td>19995</td>\n",
       "      <td>Avatar</td>\n",
       "      <td>[In, the, 22nd, century,, a, paraplegic, Marin...</td>\n",
       "      <td>[Action, Adventure, Fantasy, Science Fiction]</td>\n",
       "      <td>[culture clash, future, space war, space colon...</td>\n",
       "      <td>[Sam Worthington, Zoe Saldana, Sigourney Weaver]</td>\n",
       "      <td>[{\"credit_id\": \"52fe48009251416c750aca23\", \"de...</td>\n",
       "    </tr>\n",
       "  </tbody>\n",
       "</table>\n",
       "</div>"
      ],
      "text/plain": [
       "  movie_id   title                                           overview  \\\n",
       "0    19995  Avatar  [In, the, 22nd, century,, a, paraplegic, Marin...   \n",
       "\n",
       "                                          genres  \\\n",
       "0  [Action, Adventure, Fantasy, Science Fiction]   \n",
       "\n",
       "                                            keywords  \\\n",
       "0  [culture clash, future, space war, space colon...   \n",
       "\n",
       "                                               cast  \\\n",
       "0  [Sam Worthington, Zoe Saldana, Sigourney Weaver]   \n",
       "\n",
       "                                                crew  \n",
       "0  [{\"credit_id\": \"52fe48009251416c750aca23\", \"de...  "
      ]
     },
     "execution_count": 100,
     "metadata": {},
     "output_type": "execute_result"
    }
   ],
   "source": [
    "movies.head(1)"
   ]
  },
  {
   "cell_type": "code",
   "execution_count": 111,
   "id": "8864893e-3112-4b2b-80cc-bc08a28f4b74",
   "metadata": {},
   "outputs": [],
   "source": [
    "movies['genres']=movies['genres'].apply(lambda x:[i.replace(\" \",\"\") for i in x])\n",
    "movies['keywords']=movies['keywords'].apply(lambda x:[i.replace(\" \",\"\") for i in x])\n",
    "movies['cast']=movies['cast'].apply(lambda x:[i.replace(\" \",\"\") for i in x])"
   ]
  },
  {
   "cell_type": "code",
   "execution_count": 145,
   "id": "d2548ea4-2f14-42b6-b4f8-5cdc4d750e63",
   "metadata": {},
   "outputs": [],
   "source": [
    "movies['tags']=movies['overview']+movies['genres']+movies['keywords']+movies['cast']"
   ]
  },
  {
   "cell_type": "code",
   "execution_count": 146,
   "id": "b1f141d8-29fc-4ee3-912c-c4e4f4dc513a",
   "metadata": {},
   "outputs": [],
   "source": [
    "new_df=movies[['movie_id','title','tags']]\n"
   ]
  },
  {
   "cell_type": "code",
   "execution_count": 147,
   "id": "e3fbef8e-78bb-42b4-88aa-675f8971f907",
   "metadata": {},
   "outputs": [
    {
     "data": {
      "text/plain": [
       "0       [In, the, 22nd, century,, a, paraplegic, Marin...\n",
       "1       [Captain, Barbossa,, long, believed, to, be, d...\n",
       "2       [A, cryptic, message, from, Bond’s, past, send...\n",
       "3       [Following, the, death, of, District, Attorney...\n",
       "4       [John, Carter, is, a, war-weary,, former, mili...\n",
       "                              ...                        \n",
       "4804    [El, Mariachi, just, wants, to, play, his, gui...\n",
       "4805    [A, newlywed, couple's, honeymoon, is, upended...\n",
       "4806    [\"Signed,, Sealed,, Delivered\", introduces, a,...\n",
       "4807    [When, ambitious, New, York, attorney, Sam, is...\n",
       "4808    [Ever, since, the, second, grade, when, he, fi...\n",
       "Name: tags, Length: 4802, dtype: object"
      ]
     },
     "execution_count": 147,
     "metadata": {},
     "output_type": "execute_result"
    }
   ],
   "source": [
    "new_df[\"tags\"]"
   ]
  },
  {
   "cell_type": "code",
   "execution_count": 150,
   "id": "ac56a36b-adf7-46ca-be8b-6076c4ab6375",
   "metadata": {},
   "outputs": [
    {
     "name": "stderr",
     "output_type": "stream",
     "text": [
      "C:\\Users\\kirth\\AppData\\Local\\Temp\\ipykernel_15384\\1804341217.py:1: SettingWithCopyWarning: \n",
      "A value is trying to be set on a copy of a slice from a DataFrame.\n",
      "Try using .loc[row_indexer,col_indexer] = value instead\n",
      "\n",
      "See the caveats in the documentation: https://pandas.pydata.org/pandas-docs/stable/user_guide/indexing.html#returning-a-view-versus-a-copy\n",
      "  new_df[\"tags\"]=new_df[\"tags\"].apply(lambda x:\" \".join(x))\n"
     ]
    }
   ],
   "source": [
    "new_df[\"tags\"]=new_df[\"tags\"].apply(lambda x:\" \".join(x))"
   ]
  },
  {
   "cell_type": "code",
   "execution_count": 151,
   "id": "26dca313-0d3c-4df0-9e4e-912f758d9a3b",
   "metadata": {},
   "outputs": [
    {
     "data": {
      "text/html": [
       "<div>\n",
       "<style scoped>\n",
       "    .dataframe tbody tr th:only-of-type {\n",
       "        vertical-align: middle;\n",
       "    }\n",
       "\n",
       "    .dataframe tbody tr th {\n",
       "        vertical-align: top;\n",
       "    }\n",
       "\n",
       "    .dataframe thead th {\n",
       "        text-align: right;\n",
       "    }\n",
       "</style>\n",
       "<table border=\"1\" class=\"dataframe\">\n",
       "  <thead>\n",
       "    <tr style=\"text-align: right;\">\n",
       "      <th></th>\n",
       "      <th>movie_id</th>\n",
       "      <th>title</th>\n",
       "      <th>tags</th>\n",
       "    </tr>\n",
       "  </thead>\n",
       "  <tbody>\n",
       "    <tr>\n",
       "      <th>0</th>\n",
       "      <td>19995</td>\n",
       "      <td>Avatar</td>\n",
       "      <td>In the 22nd century, a paraplegic Marine is di...</td>\n",
       "    </tr>\n",
       "    <tr>\n",
       "      <th>1</th>\n",
       "      <td>285</td>\n",
       "      <td>Pirates of the Caribbean: At World's End</td>\n",
       "      <td>Captain Barbossa, long believed to be dead, ha...</td>\n",
       "    </tr>\n",
       "    <tr>\n",
       "      <th>2</th>\n",
       "      <td>206647</td>\n",
       "      <td>Spectre</td>\n",
       "      <td>A cryptic message from Bond’s past sends him o...</td>\n",
       "    </tr>\n",
       "    <tr>\n",
       "      <th>3</th>\n",
       "      <td>49026</td>\n",
       "      <td>The Dark Knight Rises</td>\n",
       "      <td>Following the death of District Attorney Harve...</td>\n",
       "    </tr>\n",
       "    <tr>\n",
       "      <th>4</th>\n",
       "      <td>49529</td>\n",
       "      <td>John Carter</td>\n",
       "      <td>John Carter is a war-weary, former military ca...</td>\n",
       "    </tr>\n",
       "  </tbody>\n",
       "</table>\n",
       "</div>"
      ],
      "text/plain": [
       "  movie_id                                     title  \\\n",
       "0    19995                                    Avatar   \n",
       "1      285  Pirates of the Caribbean: At World's End   \n",
       "2   206647                                   Spectre   \n",
       "3    49026                     The Dark Knight Rises   \n",
       "4    49529                               John Carter   \n",
       "\n",
       "                                                tags  \n",
       "0  In the 22nd century, a paraplegic Marine is di...  \n",
       "1  Captain Barbossa, long believed to be dead, ha...  \n",
       "2  A cryptic message from Bond’s past sends him o...  \n",
       "3  Following the death of District Attorney Harve...  \n",
       "4  John Carter is a war-weary, former military ca...  "
      ]
     },
     "execution_count": 151,
     "metadata": {},
     "output_type": "execute_result"
    }
   ],
   "source": [
    "new_df.head()"
   ]
  },
  {
   "cell_type": "code",
   "execution_count": 152,
   "id": "73edd489-58bc-4173-bf55-aea15ff93c98",
   "metadata": {},
   "outputs": [
    {
     "data": {
      "text/plain": [
       "'In the 22nd century, a paraplegic Marine is dispatched to the moon Pandora on a unique mission, but becomes torn between following orders and protecting an alien civilization. Action Adventure Fantasy ScienceFiction cultureclash future spacewar spacecolony society spacetravel futuristic romance space alien tribe alienplanet cgi marine soldier battle loveaffair antiwar powerrelations mindandsoul 3d SamWorthington ZoeSaldana SigourneyWeaver'"
      ]
     },
     "execution_count": 152,
     "metadata": {},
     "output_type": "execute_result"
    }
   ],
   "source": [
    "new_df[\"tags\"][0]"
   ]
  },
  {
   "cell_type": "code",
   "execution_count": 154,
   "id": "427553df-c2ce-4b76-a9fe-b01afbb7993c",
   "metadata": {},
   "outputs": [
    {
     "name": "stderr",
     "output_type": "stream",
     "text": [
      "C:\\Users\\kirth\\AppData\\Local\\Temp\\ipykernel_15384\\4024514323.py:1: SettingWithCopyWarning: \n",
      "A value is trying to be set on a copy of a slice from a DataFrame.\n",
      "Try using .loc[row_indexer,col_indexer] = value instead\n",
      "\n",
      "See the caveats in the documentation: https://pandas.pydata.org/pandas-docs/stable/user_guide/indexing.html#returning-a-view-versus-a-copy\n",
      "  new_df[\"tags\"]=new_df[\"tags\"].apply(lambda x:x.lower())\n"
     ]
    }
   ],
   "source": [
    "new_df[\"tags\"]=new_df[\"tags\"].apply(lambda x:x.lower())"
   ]
  },
  {
   "cell_type": "code",
   "execution_count": 155,
   "id": "daf1e6b4-13bb-427f-bcc5-1208207ee016",
   "metadata": {},
   "outputs": [
    {
     "data": {
      "text/plain": [
       "'in the 22nd century, a paraplegic marine is dispatched to the moon pandora on a unique mission, but becomes torn between following orders and protecting an alien civilization. action adventure fantasy sciencefiction cultureclash future spacewar spacecolony society spacetravel futuristic romance space alien tribe alienplanet cgi marine soldier battle loveaffair antiwar powerrelations mindandsoul 3d samworthington zoesaldana sigourneyweaver'"
      ]
     },
     "execution_count": 155,
     "metadata": {},
     "output_type": "execute_result"
    }
   ],
   "source": [
    "new_df[\"tags\"][0]"
   ]
  },
  {
   "cell_type": "code",
   "execution_count": 157,
   "id": "b5e703e2-8f50-4622-a654-6624687502fe",
   "metadata": {},
   "outputs": [
    {
     "name": "stdout",
     "output_type": "stream",
     "text": [
      "Collecting scikit-learn\n",
      "  Obtaining dependency information for scikit-learn from https://files.pythonhosted.org/packages/f6/28/b569523552a11b49dc4d33952f43dedb23792fe8ce2f2151d070d615861a/scikit_learn-1.4.0-1-cp312-cp312-win_amd64.whl.metadata\n",
      "  Downloading scikit_learn-1.4.0-1-cp312-cp312-win_amd64.whl.metadata (11 kB)\n",
      "Requirement already satisfied: numpy<2.0,>=1.19.5 in c:\\users\\kirth\\appdata\\local\\programs\\python\\python312\\lib\\site-packages (from scikit-learn) (1.26.3)\n",
      "Collecting scipy>=1.6.0 (from scikit-learn)\n",
      "  Obtaining dependency information for scipy>=1.6.0 from https://files.pythonhosted.org/packages/f3/31/91a2a3c5eb85d2bfa86d7c98f2df5d77dcdefb3d80ca9f9037ad04393acf/scipy-1.12.0-cp312-cp312-win_amd64.whl.metadata\n",
      "  Downloading scipy-1.12.0-cp312-cp312-win_amd64.whl.metadata (60 kB)\n",
      "     ---------------------------------------- 0.0/60.4 kB ? eta -:--:--\n",
      "     ------ --------------------------------- 10.2/60.4 kB ? eta -:--:--\n",
      "     ------ --------------------------------- 10.2/60.4 kB ? eta -:--:--\n",
      "     ------ --------------------------------- 10.2/60.4 kB ? eta -:--:--\n",
      "     ------ --------------------------------- 10.2/60.4 kB ? eta -:--:--\n",
      "     -------------------------------------- 60.4/60.4 kB 293.6 kB/s eta 0:00:00\n",
      "Collecting joblib>=1.2.0 (from scikit-learn)\n",
      "  Obtaining dependency information for joblib>=1.2.0 from https://files.pythonhosted.org/packages/10/40/d551139c85db202f1f384ba8bcf96aca2f329440a844f924c8a0040b6d02/joblib-1.3.2-py3-none-any.whl.metadata\n",
      "  Downloading joblib-1.3.2-py3-none-any.whl.metadata (5.4 kB)\n",
      "Collecting threadpoolctl>=2.0.0 (from scikit-learn)\n",
      "  Obtaining dependency information for threadpoolctl>=2.0.0 from https://files.pythonhosted.org/packages/81/12/fd4dea011af9d69e1cad05c75f3f7202cdcbeac9b712eea58ca779a72865/threadpoolctl-3.2.0-py3-none-any.whl.metadata\n",
      "  Downloading threadpoolctl-3.2.0-py3-none-any.whl.metadata (10.0 kB)\n",
      "Downloading scikit_learn-1.4.0-1-cp312-cp312-win_amd64.whl (10.6 MB)\n",
      "   ---------------------------------------- 0.0/10.6 MB ? eta -:--:--\n",
      "   ---------------------------------------- 0.0/10.6 MB ? eta -:--:--\n",
      "   ---------------------------------------- 0.0/10.6 MB ? eta -:--:--\n",
      "    --------------------------------------- 0.1/10.6 MB 1.2 MB/s eta 0:00:09\n",
      "    --------------------------------------- 0.1/10.6 MB 1.2 MB/s eta 0:00:09\n",
      "    --------------------------------------- 0.2/10.6 MB 1.2 MB/s eta 0:00:09\n",
      "    --------------------------------------- 0.2/10.6 MB 1.2 MB/s eta 0:00:09\n",
      "    --------------------------------------- 0.2/10.6 MB 1.2 MB/s eta 0:00:09\n",
      "   - -------------------------------------- 0.3/10.6 MB 967.8 kB/s eta 0:00:11\n",
      "   - -------------------------------------- 0.3/10.6 MB 967.8 kB/s eta 0:00:11\n",
      "   - -------------------------------------- 0.3/10.6 MB 967.8 kB/s eta 0:00:11\n",
      "   - -------------------------------------- 0.3/10.6 MB 967.8 kB/s eta 0:00:11\n",
      "   - -------------------------------------- 0.3/10.6 MB 967.8 kB/s eta 0:00:11\n",
      "   - -------------------------------------- 0.4/10.6 MB 744.1 kB/s eta 0:00:14\n",
      "   - -------------------------------------- 0.5/10.6 MB 766.8 kB/s eta 0:00:14\n",
      "   -- ------------------------------------- 0.6/10.6 MB 807.6 kB/s eta 0:00:13\n",
      "   -- ------------------------------------- 0.6/10.6 MB 823.1 kB/s eta 0:00:13\n",
      "   -- ------------------------------------- 0.7/10.6 MB 865.4 kB/s eta 0:00:12\n",
      "   -- ------------------------------------- 0.7/10.6 MB 895.4 kB/s eta 0:00:11\n",
      "   --- ------------------------------------ 0.8/10.6 MB 917.9 kB/s eta 0:00:11\n",
      "   --- ------------------------------------ 0.9/10.6 MB 932.9 kB/s eta 0:00:11\n",
      "   --- ------------------------------------ 0.9/10.6 MB 951.1 kB/s eta 0:00:11\n",
      "   --- ------------------------------------ 1.0/10.6 MB 977.6 kB/s eta 0:00:10\n",
      "   ---- ----------------------------------- 1.1/10.6 MB 993.1 kB/s eta 0:00:10\n",
      "   ---- ----------------------------------- 1.1/10.6 MB 1.0 MB/s eta 0:00:10\n",
      "   ---- ----------------------------------- 1.2/10.6 MB 1.0 MB/s eta 0:00:10\n",
      "   ---- ----------------------------------- 1.3/10.6 MB 1.1 MB/s eta 0:00:09\n",
      "   ----- ---------------------------------- 1.3/10.6 MB 1.1 MB/s eta 0:00:09\n",
      "   ----- ---------------------------------- 1.4/10.6 MB 1.1 MB/s eta 0:00:09\n",
      "   ----- ---------------------------------- 1.5/10.6 MB 1.1 MB/s eta 0:00:09\n",
      "   ----- ---------------------------------- 1.6/10.6 MB 1.1 MB/s eta 0:00:09\n",
      "   ------ --------------------------------- 1.6/10.6 MB 1.1 MB/s eta 0:00:08\n",
      "   ------ --------------------------------- 1.7/10.6 MB 1.2 MB/s eta 0:00:08\n",
      "   ------ --------------------------------- 1.8/10.6 MB 1.2 MB/s eta 0:00:08\n",
      "   ------ --------------------------------- 1.8/10.6 MB 1.2 MB/s eta 0:00:08\n",
      "   ------- -------------------------------- 1.9/10.6 MB 1.2 MB/s eta 0:00:08\n",
      "   ------- -------------------------------- 2.0/10.6 MB 1.2 MB/s eta 0:00:08\n",
      "   ------- -------------------------------- 2.1/10.6 MB 1.2 MB/s eta 0:00:08\n",
      "   -------- ------------------------------- 2.1/10.6 MB 1.2 MB/s eta 0:00:07\n",
      "   -------- ------------------------------- 2.2/10.6 MB 1.2 MB/s eta 0:00:07\n",
      "   -------- ------------------------------- 2.3/10.6 MB 1.2 MB/s eta 0:00:07\n",
      "   --------- ------------------------------ 2.4/10.6 MB 1.3 MB/s eta 0:00:07\n",
      "   --------- ------------------------------ 2.5/10.6 MB 1.3 MB/s eta 0:00:07\n",
      "   --------- ------------------------------ 2.5/10.6 MB 1.3 MB/s eta 0:00:07\n",
      "   --------- ------------------------------ 2.6/10.6 MB 1.3 MB/s eta 0:00:07\n",
      "   ---------- ----------------------------- 2.7/10.6 MB 1.3 MB/s eta 0:00:07\n",
      "   ---------- ----------------------------- 2.8/10.6 MB 1.3 MB/s eta 0:00:06\n",
      "   ---------- ----------------------------- 2.9/10.6 MB 1.3 MB/s eta 0:00:06\n",
      "   ----------- ---------------------------- 2.9/10.6 MB 1.3 MB/s eta 0:00:06\n",
      "   ----------- ---------------------------- 3.0/10.6 MB 1.3 MB/s eta 0:00:06\n",
      "   ----------- ---------------------------- 3.1/10.6 MB 1.3 MB/s eta 0:00:06\n",
      "   ----------- ---------------------------- 3.2/10.6 MB 1.3 MB/s eta 0:00:06\n",
      "   ------------ --------------------------- 3.2/10.6 MB 1.3 MB/s eta 0:00:06\n",
      "   ------------ --------------------------- 3.3/10.6 MB 1.3 MB/s eta 0:00:06\n",
      "   ------------ --------------------------- 3.4/10.6 MB 1.4 MB/s eta 0:00:06\n",
      "   ------------- -------------------------- 3.5/10.6 MB 1.4 MB/s eta 0:00:06\n",
      "   ------------- -------------------------- 3.6/10.6 MB 1.4 MB/s eta 0:00:06\n",
      "   ------------- -------------------------- 3.6/10.6 MB 1.4 MB/s eta 0:00:06\n",
      "   -------------- ------------------------- 3.7/10.6 MB 1.4 MB/s eta 0:00:05\n",
      "   -------------- ------------------------- 3.8/10.6 MB 1.4 MB/s eta 0:00:05\n",
      "   -------------- ------------------------- 3.9/10.6 MB 1.4 MB/s eta 0:00:05\n",
      "   -------------- ------------------------- 3.9/10.6 MB 1.4 MB/s eta 0:00:05\n",
      "   --------------- ------------------------ 4.0/10.6 MB 1.4 MB/s eta 0:00:05\n",
      "   --------------- ------------------------ 4.1/10.6 MB 1.4 MB/s eta 0:00:05\n",
      "   --------------- ------------------------ 4.2/10.6 MB 1.4 MB/s eta 0:00:05\n",
      "   ---------------- ----------------------- 4.3/10.6 MB 1.4 MB/s eta 0:00:05\n",
      "   ---------------- ----------------------- 4.3/10.6 MB 1.4 MB/s eta 0:00:05\n",
      "   ---------------- ----------------------- 4.4/10.6 MB 1.4 MB/s eta 0:00:05\n",
      "   ---------------- ----------------------- 4.5/10.6 MB 1.4 MB/s eta 0:00:05\n",
      "   ----------------- ---------------------- 4.6/10.6 MB 1.4 MB/s eta 0:00:05\n",
      "   ----------------- ---------------------- 4.6/10.6 MB 1.4 MB/s eta 0:00:05\n",
      "   ----------------- ---------------------- 4.7/10.6 MB 1.4 MB/s eta 0:00:05\n",
      "   ------------------ --------------------- 4.8/10.6 MB 1.4 MB/s eta 0:00:05\n",
      "   ------------------ --------------------- 4.9/10.6 MB 1.4 MB/s eta 0:00:04\n",
      "   ------------------ --------------------- 4.9/10.6 MB 1.4 MB/s eta 0:00:04\n",
      "   ------------------ --------------------- 5.0/10.6 MB 1.4 MB/s eta 0:00:04\n",
      "   ------------------- -------------------- 5.1/10.6 MB 1.5 MB/s eta 0:00:04\n",
      "   ------------------- -------------------- 5.2/10.6 MB 1.5 MB/s eta 0:00:04\n",
      "   ------------------- -------------------- 5.3/10.6 MB 1.5 MB/s eta 0:00:04\n",
      "   -------------------- ------------------- 5.4/10.6 MB 1.5 MB/s eta 0:00:04\n",
      "   -------------------- ------------------- 5.4/10.6 MB 1.5 MB/s eta 0:00:04\n",
      "   -------------------- ------------------- 5.5/10.6 MB 1.5 MB/s eta 0:00:04\n",
      "   --------------------- ------------------ 5.6/10.6 MB 1.5 MB/s eta 0:00:04\n",
      "   --------------------- ------------------ 5.7/10.6 MB 1.5 MB/s eta 0:00:04\n",
      "   --------------------- ------------------ 5.7/10.6 MB 1.5 MB/s eta 0:00:04\n",
      "   ---------------------- ----------------- 5.8/10.6 MB 1.5 MB/s eta 0:00:04\n",
      "   ---------------------- ----------------- 5.9/10.6 MB 1.5 MB/s eta 0:00:04\n",
      "   ---------------------- ----------------- 6.0/10.6 MB 1.5 MB/s eta 0:00:04\n",
      "   ----------------------- ---------------- 6.1/10.6 MB 1.5 MB/s eta 0:00:03\n",
      "   ----------------------- ---------------- 6.2/10.6 MB 1.5 MB/s eta 0:00:03\n",
      "   ----------------------- ---------------- 6.3/10.6 MB 1.5 MB/s eta 0:00:03\n",
      "   ------------------------ --------------- 6.4/10.6 MB 1.5 MB/s eta 0:00:03\n",
      "   ------------------------ --------------- 6.5/10.6 MB 1.5 MB/s eta 0:00:03\n",
      "   ------------------------ --------------- 6.6/10.6 MB 1.5 MB/s eta 0:00:03\n",
      "   ------------------------- -------------- 6.6/10.6 MB 1.5 MB/s eta 0:00:03\n",
      "   ------------------------- -------------- 6.7/10.6 MB 1.5 MB/s eta 0:00:03\n",
      "   ------------------------- -------------- 6.8/10.6 MB 1.5 MB/s eta 0:00:03\n",
      "   -------------------------- ------------- 6.9/10.6 MB 1.5 MB/s eta 0:00:03\n",
      "   -------------------------- ------------- 7.0/10.6 MB 1.5 MB/s eta 0:00:03\n",
      "   -------------------------- ------------- 7.1/10.6 MB 1.5 MB/s eta 0:00:03\n",
      "   --------------------------- ------------ 7.2/10.6 MB 1.5 MB/s eta 0:00:03\n",
      "   --------------------------- ------------ 7.3/10.6 MB 1.5 MB/s eta 0:00:03\n",
      "   --------------------------- ------------ 7.3/10.6 MB 1.6 MB/s eta 0:00:03\n",
      "   ---------------------------- ----------- 7.4/10.6 MB 1.6 MB/s eta 0:00:03\n",
      "   ---------------------------- ----------- 7.5/10.6 MB 1.6 MB/s eta 0:00:02\n",
      "   ---------------------------- ----------- 7.6/10.6 MB 1.6 MB/s eta 0:00:02\n",
      "   ----------------------------- ---------- 7.7/10.6 MB 1.6 MB/s eta 0:00:02\n",
      "   ----------------------------- ---------- 7.8/10.6 MB 1.6 MB/s eta 0:00:02\n",
      "   ----------------------------- ---------- 7.9/10.6 MB 1.6 MB/s eta 0:00:02\n",
      "   ------------------------------ --------- 8.0/10.6 MB 1.6 MB/s eta 0:00:02\n",
      "   ------------------------------ --------- 8.1/10.6 MB 1.6 MB/s eta 0:00:02\n",
      "   ------------------------------ --------- 8.2/10.6 MB 1.6 MB/s eta 0:00:02\n",
      "   ------------------------------- -------- 8.3/10.6 MB 1.6 MB/s eta 0:00:02\n",
      "   ------------------------------- -------- 8.4/10.6 MB 1.6 MB/s eta 0:00:02\n",
      "   ------------------------------- -------- 8.4/10.6 MB 1.6 MB/s eta 0:00:02\n",
      "   -------------------------------- ------- 8.6/10.6 MB 1.6 MB/s eta 0:00:02\n",
      "   -------------------------------- ------- 8.6/10.6 MB 1.6 MB/s eta 0:00:02\n",
      "   --------------------------------- ------ 8.7/10.6 MB 1.6 MB/s eta 0:00:02\n",
      "   --------------------------------- ------ 8.8/10.6 MB 1.6 MB/s eta 0:00:02\n",
      "   --------------------------------- ------ 8.9/10.6 MB 1.6 MB/s eta 0:00:02\n",
      "   ---------------------------------- ----- 9.0/10.6 MB 1.6 MB/s eta 0:00:01\n",
      "   ---------------------------------- ----- 9.1/10.6 MB 1.6 MB/s eta 0:00:01\n",
      "   ---------------------------------- ----- 9.2/10.6 MB 1.6 MB/s eta 0:00:01\n",
      "   ----------------------------------- ---- 9.3/10.6 MB 1.6 MB/s eta 0:00:01\n",
      "   ----------------------------------- ---- 9.4/10.6 MB 1.6 MB/s eta 0:00:01\n",
      "   ----------------------------------- ---- 9.5/10.6 MB 1.6 MB/s eta 0:00:01\n",
      "   ------------------------------------ --- 9.6/10.6 MB 1.6 MB/s eta 0:00:01\n",
      "   ------------------------------------ --- 9.7/10.6 MB 1.6 MB/s eta 0:00:01\n",
      "   ------------------------------------ --- 9.7/10.6 MB 1.6 MB/s eta 0:00:01\n",
      "   ------------------------------------- -- 9.9/10.6 MB 1.6 MB/s eta 0:00:01\n",
      "   ------------------------------------- -- 10.0/10.6 MB 1.7 MB/s eta 0:00:01\n",
      "   -------------------------------------- - 10.1/10.6 MB 1.7 MB/s eta 0:00:01\n",
      "   -------------------------------------- - 10.2/10.6 MB 1.7 MB/s eta 0:00:01\n",
      "   -------------------------------------- - 10.3/10.6 MB 1.7 MB/s eta 0:00:01\n",
      "   ---------------------------------------  10.4/10.6 MB 1.7 MB/s eta 0:00:01\n",
      "   ---------------------------------------  10.5/10.6 MB 1.7 MB/s eta 0:00:01\n",
      "   ---------------------------------------  10.6/10.6 MB 1.8 MB/s eta 0:00:01\n",
      "   ---------------------------------------  10.6/10.6 MB 1.8 MB/s eta 0:00:01\n",
      "   ---------------------------------------- 10.6/10.6 MB 1.8 MB/s eta 0:00:00\n",
      "Using cached joblib-1.3.2-py3-none-any.whl (302 kB)\n",
      "Downloading scipy-1.12.0-cp312-cp312-win_amd64.whl (45.8 MB)\n",
      "   ---------------------------------------- 0.0/45.8 MB ? eta -:--:--\n",
      "   ---------------------------------------- 0.1/45.8 MB 3.6 MB/s eta 0:00:13\n",
      "   ---------------------------------------- 0.2/45.8 MB 2.8 MB/s eta 0:00:17\n",
      "   ---------------------------------------- 0.3/45.8 MB 2.6 MB/s eta 0:00:18\n",
      "   ---------------------------------------- 0.4/45.8 MB 2.5 MB/s eta 0:00:19\n",
      "   ---------------------------------------- 0.6/45.8 MB 2.5 MB/s eta 0:00:19\n",
      "    --------------------------------------- 0.6/45.8 MB 2.3 MB/s eta 0:00:20\n",
      "    --------------------------------------- 0.7/45.8 MB 2.4 MB/s eta 0:00:20\n",
      "    --------------------------------------- 0.8/45.8 MB 2.3 MB/s eta 0:00:20\n",
      "    --------------------------------------- 1.0/45.8 MB 2.4 MB/s eta 0:00:19\n",
      "    --------------------------------------- 1.1/45.8 MB 2.4 MB/s eta 0:00:20\n",
      "   - -------------------------------------- 1.2/45.8 MB 2.4 MB/s eta 0:00:19\n",
      "   - -------------------------------------- 1.3/45.8 MB 2.4 MB/s eta 0:00:19\n",
      "   - -------------------------------------- 1.4/45.8 MB 2.4 MB/s eta 0:00:19\n",
      "   - -------------------------------------- 1.5/45.8 MB 2.4 MB/s eta 0:00:19\n",
      "   - -------------------------------------- 1.6/45.8 MB 2.4 MB/s eta 0:00:19\n",
      "   - -------------------------------------- 1.7/45.8 MB 2.4 MB/s eta 0:00:19\n",
      "   - -------------------------------------- 1.9/45.8 MB 2.4 MB/s eta 0:00:19\n",
      "   - -------------------------------------- 2.0/45.8 MB 2.4 MB/s eta 0:00:19\n",
      "   - -------------------------------------- 2.1/45.8 MB 2.4 MB/s eta 0:00:19\n",
      "   - -------------------------------------- 2.2/45.8 MB 2.4 MB/s eta 0:00:19\n",
      "   -- ------------------------------------- 2.3/45.8 MB 2.4 MB/s eta 0:00:19\n",
      "   -- ------------------------------------- 2.4/45.8 MB 2.4 MB/s eta 0:00:19\n",
      "   -- ------------------------------------- 2.5/45.8 MB 2.4 MB/s eta 0:00:19\n",
      "   -- ------------------------------------- 2.6/45.8 MB 2.4 MB/s eta 0:00:19\n",
      "   -- ------------------------------------- 2.7/45.8 MB 2.4 MB/s eta 0:00:18\n",
      "   -- ------------------------------------- 2.9/45.8 MB 2.4 MB/s eta 0:00:19\n",
      "   -- ------------------------------------- 3.0/45.8 MB 2.4 MB/s eta 0:00:18\n",
      "   -- ------------------------------------- 3.1/45.8 MB 2.4 MB/s eta 0:00:18\n",
      "   -- ------------------------------------- 3.2/45.8 MB 2.4 MB/s eta 0:00:18\n",
      "   -- ------------------------------------- 3.3/45.8 MB 2.4 MB/s eta 0:00:18\n",
      "   --- ------------------------------------ 3.5/45.8 MB 2.4 MB/s eta 0:00:18\n",
      "   --- ------------------------------------ 3.6/45.8 MB 2.4 MB/s eta 0:00:18\n",
      "   --- ------------------------------------ 3.7/45.8 MB 2.4 MB/s eta 0:00:18\n",
      "   --- ------------------------------------ 3.8/45.8 MB 2.4 MB/s eta 0:00:18\n",
      "   --- ------------------------------------ 3.9/45.8 MB 2.4 MB/s eta 0:00:18\n",
      "   --- ------------------------------------ 4.0/45.8 MB 2.4 MB/s eta 0:00:18\n",
      "   --- ------------------------------------ 4.2/45.8 MB 2.4 MB/s eta 0:00:18\n",
      "   --- ------------------------------------ 4.3/45.8 MB 2.4 MB/s eta 0:00:17\n",
      "   --- ------------------------------------ 4.4/45.8 MB 2.5 MB/s eta 0:00:17\n",
      "   --- ------------------------------------ 4.5/45.8 MB 2.4 MB/s eta 0:00:17\n",
      "   ---- ----------------------------------- 4.7/45.8 MB 2.5 MB/s eta 0:00:17\n",
      "   ---- ----------------------------------- 4.8/45.8 MB 2.5 MB/s eta 0:00:17\n",
      "   ---- ----------------------------------- 4.9/45.8 MB 2.5 MB/s eta 0:00:17\n",
      "   ---- ----------------------------------- 5.0/45.8 MB 2.5 MB/s eta 0:00:17\n",
      "   ---- ----------------------------------- 5.2/45.8 MB 2.5 MB/s eta 0:00:17\n",
      "   ---- ----------------------------------- 5.3/45.8 MB 2.5 MB/s eta 0:00:17\n",
      "   ---- ----------------------------------- 5.4/45.8 MB 2.5 MB/s eta 0:00:17\n",
      "   ---- ----------------------------------- 5.5/45.8 MB 2.5 MB/s eta 0:00:17\n",
      "   ---- ----------------------------------- 5.7/45.8 MB 2.5 MB/s eta 0:00:17\n",
      "   ----- ---------------------------------- 5.8/45.8 MB 2.5 MB/s eta 0:00:17\n",
      "   ----- ---------------------------------- 5.9/45.8 MB 2.5 MB/s eta 0:00:16\n",
      "   ----- ---------------------------------- 6.0/45.8 MB 2.5 MB/s eta 0:00:16\n",
      "   ----- ---------------------------------- 6.1/45.8 MB 2.5 MB/s eta 0:00:16\n",
      "   ----- ---------------------------------- 6.3/45.8 MB 2.5 MB/s eta 0:00:16\n",
      "   ----- ---------------------------------- 6.4/45.8 MB 2.5 MB/s eta 0:00:16\n",
      "   ----- ---------------------------------- 6.5/45.8 MB 2.5 MB/s eta 0:00:16\n",
      "   ----- ---------------------------------- 6.7/45.8 MB 2.5 MB/s eta 0:00:16\n",
      "   ----- ---------------------------------- 6.8/45.8 MB 2.5 MB/s eta 0:00:16\n",
      "   ------ --------------------------------- 6.9/45.8 MB 2.5 MB/s eta 0:00:16\n",
      "   ------ --------------------------------- 7.0/45.8 MB 2.5 MB/s eta 0:00:16\n",
      "   ------ --------------------------------- 7.1/45.8 MB 2.5 MB/s eta 0:00:16\n",
      "   ------ --------------------------------- 7.3/45.8 MB 2.5 MB/s eta 0:00:16\n",
      "   ------ --------------------------------- 7.4/45.8 MB 2.5 MB/s eta 0:00:16\n",
      "   ------ --------------------------------- 7.5/45.8 MB 2.5 MB/s eta 0:00:16\n",
      "   ------ --------------------------------- 7.7/45.8 MB 2.5 MB/s eta 0:00:16\n",
      "   ------ --------------------------------- 7.8/45.8 MB 2.5 MB/s eta 0:00:15\n",
      "   ------ --------------------------------- 7.9/45.8 MB 2.5 MB/s eta 0:00:15\n",
      "   ------- -------------------------------- 8.0/45.8 MB 2.5 MB/s eta 0:00:15\n",
      "   ------- -------------------------------- 8.2/45.8 MB 2.6 MB/s eta 0:00:15\n",
      "   ------- -------------------------------- 8.3/45.8 MB 2.6 MB/s eta 0:00:15\n",
      "   ------- -------------------------------- 8.5/45.8 MB 2.6 MB/s eta 0:00:15\n",
      "   ------- -------------------------------- 8.6/45.8 MB 2.6 MB/s eta 0:00:15\n",
      "   ------- -------------------------------- 8.7/45.8 MB 2.6 MB/s eta 0:00:15\n",
      "   ------- -------------------------------- 8.9/45.8 MB 2.6 MB/s eta 0:00:15\n",
      "   ------- -------------------------------- 9.0/45.8 MB 2.6 MB/s eta 0:00:15\n",
      "   ------- -------------------------------- 9.1/45.8 MB 2.6 MB/s eta 0:00:15\n",
      "   -------- ------------------------------- 9.3/45.8 MB 2.6 MB/s eta 0:00:15\n",
      "   -------- ------------------------------- 9.4/45.8 MB 2.6 MB/s eta 0:00:14\n",
      "   -------- ------------------------------- 9.6/45.8 MB 2.6 MB/s eta 0:00:14\n",
      "   -------- ------------------------------- 9.7/45.8 MB 2.6 MB/s eta 0:00:14\n",
      "   -------- ------------------------------- 9.9/45.8 MB 2.6 MB/s eta 0:00:14\n",
      "   -------- ------------------------------- 10.0/45.8 MB 2.6 MB/s eta 0:00:14\n",
      "   -------- ------------------------------- 10.2/45.8 MB 2.6 MB/s eta 0:00:14\n",
      "   --------- ------------------------------ 10.3/45.8 MB 2.7 MB/s eta 0:00:14\n",
      "   --------- ------------------------------ 10.5/45.8 MB 2.7 MB/s eta 0:00:14\n",
      "   --------- ------------------------------ 10.6/45.8 MB 2.7 MB/s eta 0:00:14\n",
      "   --------- ------------------------------ 10.8/45.8 MB 2.7 MB/s eta 0:00:13\n",
      "   --------- ------------------------------ 11.0/45.8 MB 2.7 MB/s eta 0:00:13\n",
      "   --------- ------------------------------ 11.1/45.8 MB 2.7 MB/s eta 0:00:13\n",
      "   --------- ------------------------------ 11.3/45.8 MB 2.8 MB/s eta 0:00:13\n",
      "   ---------- ----------------------------- 11.5/45.8 MB 2.8 MB/s eta 0:00:13\n",
      "   ---------- ----------------------------- 11.7/45.8 MB 2.8 MB/s eta 0:00:13\n",
      "   ---------- ----------------------------- 11.8/45.8 MB 2.8 MB/s eta 0:00:13\n",
      "   ---------- ----------------------------- 12.0/45.8 MB 2.8 MB/s eta 0:00:12\n",
      "   ---------- ----------------------------- 12.2/45.8 MB 2.9 MB/s eta 0:00:12\n",
      "   ---------- ----------------------------- 12.4/45.8 MB 2.9 MB/s eta 0:00:12\n",
      "   ---------- ----------------------------- 12.5/45.8 MB 2.9 MB/s eta 0:00:12\n",
      "   ----------- ---------------------------- 12.7/45.8 MB 2.9 MB/s eta 0:00:12\n",
      "   ----------- ---------------------------- 12.9/45.8 MB 2.9 MB/s eta 0:00:12\n",
      "   ----------- ---------------------------- 13.1/45.8 MB 3.0 MB/s eta 0:00:11\n",
      "   ----------- ---------------------------- 13.3/45.8 MB 3.0 MB/s eta 0:00:11\n",
      "   ----------- ---------------------------- 13.5/45.8 MB 3.0 MB/s eta 0:00:11\n",
      "   ----------- ---------------------------- 13.6/45.8 MB 3.0 MB/s eta 0:00:11\n",
      "   ------------ --------------------------- 13.8/45.8 MB 3.1 MB/s eta 0:00:11\n",
      "   ------------ --------------------------- 14.0/45.8 MB 3.1 MB/s eta 0:00:11\n",
      "   ------------ --------------------------- 14.2/45.8 MB 3.1 MB/s eta 0:00:11\n",
      "   ------------ --------------------------- 14.4/45.8 MB 3.1 MB/s eta 0:00:11\n",
      "   ------------ --------------------------- 14.6/45.8 MB 3.2 MB/s eta 0:00:10\n",
      "   ------------ --------------------------- 14.8/45.8 MB 3.2 MB/s eta 0:00:10\n",
      "   ------------- -------------------------- 15.0/45.8 MB 3.3 MB/s eta 0:00:10\n",
      "   ------------- -------------------------- 15.2/45.8 MB 3.3 MB/s eta 0:00:10\n",
      "   ------------- -------------------------- 15.5/45.8 MB 3.3 MB/s eta 0:00:10\n",
      "   ------------- -------------------------- 15.7/45.8 MB 3.4 MB/s eta 0:00:09\n",
      "   ------------- -------------------------- 15.9/45.8 MB 3.4 MB/s eta 0:00:09\n",
      "   -------------- ------------------------- 16.2/45.8 MB 3.5 MB/s eta 0:00:09\n",
      "   -------------- ------------------------- 16.4/45.8 MB 3.5 MB/s eta 0:00:09\n",
      "   -------------- ------------------------- 16.6/45.8 MB 3.5 MB/s eta 0:00:09\n",
      "   -------------- ------------------------- 16.9/45.8 MB 3.6 MB/s eta 0:00:09\n",
      "   -------------- ------------------------- 17.1/45.8 MB 3.7 MB/s eta 0:00:08\n",
      "   --------------- ------------------------ 17.3/45.8 MB 3.7 MB/s eta 0:00:08\n",
      "   --------------- ------------------------ 17.6/45.8 MB 3.8 MB/s eta 0:00:08\n",
      "   --------------- ------------------------ 17.8/45.8 MB 3.9 MB/s eta 0:00:08\n",
      "   --------------- ------------------------ 18.1/45.8 MB 3.9 MB/s eta 0:00:08\n",
      "   ---------------- ----------------------- 18.3/45.8 MB 4.0 MB/s eta 0:00:07\n",
      "   ---------------- ----------------------- 18.6/45.8 MB 4.0 MB/s eta 0:00:07\n",
      "   ---------------- ----------------------- 18.8/45.8 MB 4.1 MB/s eta 0:00:07\n",
      "   ---------------- ----------------------- 19.1/45.8 MB 4.2 MB/s eta 0:00:07\n",
      "   ---------------- ----------------------- 19.4/45.8 MB 4.3 MB/s eta 0:00:07\n",
      "   ----------------- ---------------------- 19.6/45.8 MB 4.3 MB/s eta 0:00:07\n",
      "   ----------------- ---------------------- 19.9/45.8 MB 4.4 MB/s eta 0:00:06\n",
      "   ----------------- ---------------------- 20.2/45.8 MB 4.5 MB/s eta 0:00:06\n",
      "   ----------------- ---------------------- 20.5/45.8 MB 4.5 MB/s eta 0:00:06\n",
      "   ------------------ --------------------- 20.7/45.8 MB 4.6 MB/s eta 0:00:06\n",
      "   ------------------ --------------------- 21.0/45.8 MB 4.7 MB/s eta 0:00:06\n",
      "   ------------------ --------------------- 21.3/45.8 MB 4.8 MB/s eta 0:00:06\n",
      "   ------------------ --------------------- 21.6/45.8 MB 4.9 MB/s eta 0:00:05\n",
      "   ------------------- -------------------- 21.9/45.8 MB 4.9 MB/s eta 0:00:05\n",
      "   ------------------- -------------------- 22.2/45.8 MB 5.0 MB/s eta 0:00:05\n",
      "   ------------------- -------------------- 22.4/45.8 MB 5.0 MB/s eta 0:00:05\n",
      "   ------------------- -------------------- 22.7/45.8 MB 5.1 MB/s eta 0:00:05\n",
      "   -------------------- ------------------- 23.1/45.8 MB 5.2 MB/s eta 0:00:05\n",
      "   -------------------- ------------------- 23.4/45.8 MB 5.3 MB/s eta 0:00:05\n",
      "   -------------------- ------------------- 23.7/45.8 MB 5.4 MB/s eta 0:00:05\n",
      "   -------------------- ------------------- 24.0/45.8 MB 5.5 MB/s eta 0:00:04\n",
      "   --------------------- ------------------ 24.3/45.8 MB 5.6 MB/s eta 0:00:04\n",
      "   --------------------- ------------------ 24.7/45.8 MB 5.7 MB/s eta 0:00:04\n",
      "   --------------------- ------------------ 25.0/45.8 MB 5.8 MB/s eta 0:00:04\n",
      "   ---------------------- ----------------- 25.3/45.8 MB 5.8 MB/s eta 0:00:04\n",
      "   ---------------------- ----------------- 25.7/45.8 MB 6.0 MB/s eta 0:00:04\n",
      "   ---------------------- ----------------- 26.0/45.8 MB 6.0 MB/s eta 0:00:04\n",
      "   ----------------------- ---------------- 26.4/45.8 MB 6.1 MB/s eta 0:00:04\n",
      "   ----------------------- ---------------- 26.7/45.8 MB 6.2 MB/s eta 0:00:04\n",
      "   ----------------------- ---------------- 27.1/45.8 MB 6.3 MB/s eta 0:00:03\n",
      "   ----------------------- ---------------- 27.4/45.8 MB 6.4 MB/s eta 0:00:03\n",
      "   ------------------------ --------------- 27.6/45.8 MB 6.4 MB/s eta 0:00:03\n",
      "   ------------------------ --------------- 28.1/45.8 MB 6.5 MB/s eta 0:00:03\n",
      "   ------------------------ --------------- 28.3/45.8 MB 6.5 MB/s eta 0:00:03\n",
      "   ------------------------- -------------- 28.7/45.8 MB 6.6 MB/s eta 0:00:03\n",
      "   ------------------------- -------------- 29.0/45.8 MB 6.6 MB/s eta 0:00:03\n",
      "   ------------------------- -------------- 29.4/45.8 MB 6.7 MB/s eta 0:00:03\n",
      "   ------------------------- -------------- 29.7/45.8 MB 6.7 MB/s eta 0:00:03\n",
      "   -------------------------- ------------- 30.1/45.8 MB 6.8 MB/s eta 0:00:03\n",
      "   -------------------------- ------------- 30.4/45.8 MB 7.0 MB/s eta 0:00:03\n",
      "   -------------------------- ------------- 30.8/45.8 MB 6.9 MB/s eta 0:00:03\n",
      "   --------------------------- ------------ 31.1/45.8 MB 7.0 MB/s eta 0:00:03\n",
      "   --------------------------- ------------ 31.4/45.8 MB 7.1 MB/s eta 0:00:03\n",
      "   --------------------------- ------------ 31.8/45.8 MB 7.1 MB/s eta 0:00:02\n",
      "   ---------------------------- ----------- 32.1/45.8 MB 7.1 MB/s eta 0:00:02\n",
      "   ---------------------------- ----------- 32.4/45.8 MB 7.0 MB/s eta 0:00:02\n",
      "   ---------------------------- ----------- 32.7/45.8 MB 7.2 MB/s eta 0:00:02\n",
      "   ---------------------------- ----------- 33.0/45.8 MB 7.2 MB/s eta 0:00:02\n",
      "   ----------------------------- ---------- 33.4/45.8 MB 7.2 MB/s eta 0:00:02\n",
      "   ----------------------------- ---------- 33.8/45.8 MB 7.3 MB/s eta 0:00:02\n",
      "   ----------------------------- ---------- 34.1/45.8 MB 7.3 MB/s eta 0:00:02\n",
      "   ------------------------------ --------- 34.5/45.8 MB 7.3 MB/s eta 0:00:02\n",
      "   ------------------------------ --------- 34.8/45.8 MB 7.4 MB/s eta 0:00:02\n",
      "   ------------------------------ --------- 35.1/45.8 MB 7.3 MB/s eta 0:00:02\n",
      "   ------------------------------ --------- 35.5/45.8 MB 7.3 MB/s eta 0:00:02\n",
      "   ------------------------------- -------- 35.8/45.8 MB 7.3 MB/s eta 0:00:02\n",
      "   ------------------------------- -------- 36.2/45.8 MB 7.3 MB/s eta 0:00:02\n",
      "   ------------------------------- -------- 36.5/45.8 MB 7.3 MB/s eta 0:00:02\n",
      "   -------------------------------- ------- 36.8/45.8 MB 7.3 MB/s eta 0:00:02\n",
      "   -------------------------------- ------- 37.2/45.8 MB 7.3 MB/s eta 0:00:02\n",
      "   -------------------------------- ------- 37.5/45.8 MB 7.3 MB/s eta 0:00:02\n",
      "   --------------------------------- ------ 37.9/45.8 MB 7.4 MB/s eta 0:00:02\n",
      "   --------------------------------- ------ 38.2/45.8 MB 7.3 MB/s eta 0:00:02\n",
      "   --------------------------------- ------ 38.5/45.8 MB 7.4 MB/s eta 0:00:01\n",
      "   --------------------------------- ------ 38.9/45.8 MB 7.3 MB/s eta 0:00:01\n",
      "   ---------------------------------- ----- 39.2/45.8 MB 7.4 MB/s eta 0:00:01\n",
      "   ---------------------------------- ----- 39.6/45.8 MB 7.3 MB/s eta 0:00:01\n",
      "   ---------------------------------- ----- 39.9/45.8 MB 7.3 MB/s eta 0:00:01\n",
      "   ----------------------------------- ---- 40.3/45.8 MB 7.4 MB/s eta 0:00:01\n",
      "   ----------------------------------- ---- 40.6/45.8 MB 7.3 MB/s eta 0:00:01\n",
      "   ----------------------------------- ---- 40.9/45.8 MB 7.3 MB/s eta 0:00:01\n",
      "   ------------------------------------ --- 41.2/45.8 MB 7.4 MB/s eta 0:00:01\n",
      "   ------------------------------------ --- 41.6/45.8 MB 7.4 MB/s eta 0:00:01\n",
      "   ------------------------------------ --- 41.9/45.8 MB 7.4 MB/s eta 0:00:01\n",
      "   ------------------------------------ --- 42.3/45.8 MB 7.3 MB/s eta 0:00:01\n",
      "   ------------------------------------- -- 42.6/45.8 MB 7.4 MB/s eta 0:00:01\n",
      "   ------------------------------------- -- 42.9/45.8 MB 7.4 MB/s eta 0:00:01\n",
      "   ------------------------------------- -- 43.3/45.8 MB 7.4 MB/s eta 0:00:01\n",
      "   -------------------------------------- - 43.6/45.8 MB 7.4 MB/s eta 0:00:01\n",
      "   -------------------------------------- - 44.0/45.8 MB 7.4 MB/s eta 0:00:01\n",
      "   -------------------------------------- - 44.3/45.8 MB 7.3 MB/s eta 0:00:01\n",
      "   -------------------------------------- - 44.6/45.8 MB 7.4 MB/s eta 0:00:01\n",
      "   ---------------------------------------  45.0/45.8 MB 7.3 MB/s eta 0:00:01\n",
      "   ---------------------------------------  45.3/45.8 MB 7.4 MB/s eta 0:00:01\n",
      "   ---------------------------------------  45.6/45.8 MB 7.3 MB/s eta 0:00:01\n",
      "   ---------------------------------------  45.8/45.8 MB 7.3 MB/s eta 0:00:01\n",
      "   ---------------------------------------  45.8/45.8 MB 7.3 MB/s eta 0:00:01\n",
      "   ---------------------------------------  45.8/45.8 MB 7.3 MB/s eta 0:00:01\n",
      "   ---------------------------------------  45.8/45.8 MB 7.3 MB/s eta 0:00:01\n",
      "   ---------------------------------------- 45.8/45.8 MB 6.0 MB/s eta 0:00:00\n",
      "Using cached threadpoolctl-3.2.0-py3-none-any.whl (15 kB)\n",
      "Installing collected packages: threadpoolctl, scipy, joblib, scikit-learn\n",
      "Successfully installed joblib-1.3.2 scikit-learn-1.4.0 scipy-1.12.0 threadpoolctl-3.2.0\n",
      "Note: you may need to restart the kernel to use updated packages.\n"
     ]
    },
    {
     "name": "stderr",
     "output_type": "stream",
     "text": [
      "\n",
      "[notice] A new release of pip is available: 23.2.1 -> 24.0\n",
      "[notice] To update, run: python.exe -m pip install --upgrade pip\n"
     ]
    }
   ],
   "source": [
    "pip install scikit-learn\n"
   ]
  },
  {
   "cell_type": "code",
   "execution_count": 159,
   "id": "740d8297-7347-4fb4-af0e-b6aff4667f09",
   "metadata": {},
   "outputs": [],
   "source": [
    "\n",
    "from sklearn.feature_extraction.text import CountVectorizer\n",
    "cv = CountVectorizer(max_features=5000,stop_words=\"english\")"
   ]
  },
  {
   "cell_type": "code",
   "execution_count": 160,
   "id": "66ea9419-85f5-4265-87f8-70ad0b7128e5",
   "metadata": {},
   "outputs": [],
   "source": [
    "vectors=cv.fit_transform(new_df['tags']).toarray()"
   ]
  },
  {
   "cell_type": "code",
   "execution_count": 161,
   "id": "5c8a2952-95e6-420a-b1e1-7b71b9ecbbf6",
   "metadata": {},
   "outputs": [
    {
     "data": {
      "text/plain": [
       "array([[0, 0, 0, ..., 0, 0, 0],\n",
       "       [0, 0, 0, ..., 0, 0, 0],\n",
       "       [0, 0, 0, ..., 0, 0, 0],\n",
       "       ...,\n",
       "       [0, 0, 0, ..., 0, 0, 0],\n",
       "       [0, 0, 0, ..., 0, 0, 0],\n",
       "       [0, 0, 0, ..., 0, 0, 0]], dtype=int64)"
      ]
     },
     "execution_count": 161,
     "metadata": {},
     "output_type": "execute_result"
    }
   ],
   "source": [
    "vectors"
   ]
  },
  {
   "cell_type": "code",
   "execution_count": 165,
   "id": "524a36b7-3c01-4d2c-aa22-a106e2595475",
   "metadata": {},
   "outputs": [
    {
     "data": {
      "text/plain": [
       "array(['000', '007', '10', ..., 'zone', 'zoo', 'zooeydeschanel'],\n",
       "      dtype=object)"
      ]
     },
     "execution_count": 165,
     "metadata": {},
     "output_type": "execute_result"
    }
   ],
   "source": [
    "cv.get_feature_names_out()"
   ]
  },
  {
   "cell_type": "code",
   "execution_count": 166,
   "id": "cde1a482-a417-4d83-8f6c-67850532f89b",
   "metadata": {},
   "outputs": [
    {
     "ename": "ModuleNotFoundError",
     "evalue": "No module named 'nltk'",
     "output_type": "error",
     "traceback": [
      "\u001b[1;31m---------------------------------------------------------------------------\u001b[0m",
      "\u001b[1;31mModuleNotFoundError\u001b[0m                       Traceback (most recent call last)",
      "Cell \u001b[1;32mIn[166], line 1\u001b[0m\n\u001b[1;32m----> 1\u001b[0m \u001b[38;5;28;01mimport\u001b[39;00m \u001b[38;5;21;01mnltk\u001b[39;00m\n",
      "\u001b[1;31mModuleNotFoundError\u001b[0m: No module named 'nltk'"
     ]
    }
   ],
   "source": [
    "import nltk"
   ]
  },
  {
   "cell_type": "code",
   "execution_count": 167,
   "id": "fbed5f17-263e-4c9c-98f3-23464d851418",
   "metadata": {},
   "outputs": [
    {
     "name": "stdout",
     "output_type": "stream",
     "text": [
      "Collecting nltk\n",
      "  Downloading nltk-3.8.1-py3-none-any.whl (1.5 MB)\n",
      "     ---------------------------------------- 0.0/1.5 MB ? eta -:--:--\n",
      "     ---------------------------------------- 0.0/1.5 MB ? eta -:--:--\n",
      "     ---------------------------------------- 0.0/1.5 MB ? eta -:--:--\n",
      "      --------------------------------------- 0.0/1.5 MB 217.9 kB/s eta 0:00:07\n",
      "     -- ------------------------------------- 0.1/1.5 MB 403.5 kB/s eta 0:00:04\n",
      "     ----- ---------------------------------- 0.2/1.5 MB 778.2 kB/s eta 0:00:02\n",
      "     ------ --------------------------------- 0.2/1.5 MB 835.2 kB/s eta 0:00:02\n",
      "     ------ --------------------------------- 0.2/1.5 MB 835.2 kB/s eta 0:00:02\n",
      "     -------- ------------------------------- 0.3/1.5 MB 838.1 kB/s eta 0:00:02\n",
      "     -------- ------------------------------- 0.3/1.5 MB 838.1 kB/s eta 0:00:02\n",
      "     ----------- ---------------------------- 0.4/1.5 MB 844.5 kB/s eta 0:00:02\n",
      "     ----------- ---------------------------- 0.4/1.5 MB 844.5 kB/s eta 0:00:02\n",
      "     ----------- ---------------------------- 0.4/1.5 MB 844.5 kB/s eta 0:00:02\n",
      "     ----------- ---------------------------- 0.4/1.5 MB 844.5 kB/s eta 0:00:02\n",
      "     ------------------ --------------------- 0.7/1.5 MB 982.3 kB/s eta 0:00:01\n",
      "     ------------------- -------------------- 0.7/1.5 MB 983.0 kB/s eta 0:00:01\n",
      "     --------------------- ------------------ 0.8/1.5 MB 1.0 MB/s eta 0:00:01\n",
      "     ------------------------- -------------- 1.0/1.5 MB 1.1 MB/s eta 0:00:01\n",
      "     ---------------------------- ----------- 1.1/1.5 MB 1.2 MB/s eta 0:00:01\n",
      "     -------------------------------- ------- 1.2/1.5 MB 1.3 MB/s eta 0:00:01\n",
      "     ------------------------------------- -- 1.4/1.5 MB 1.4 MB/s eta 0:00:01\n",
      "     ---------------------------------------- 1.5/1.5 MB 1.5 MB/s eta 0:00:00\n",
      "Collecting click (from nltk)\n",
      "  Obtaining dependency information for click from https://files.pythonhosted.org/packages/00/2e/d53fa4befbf2cfa713304affc7ca780ce4fc1fd8710527771b58311a3229/click-8.1.7-py3-none-any.whl.metadata\n",
      "  Downloading click-8.1.7-py3-none-any.whl.metadata (3.0 kB)\n",
      "Requirement already satisfied: joblib in c:\\users\\kirth\\appdata\\local\\programs\\python\\python312\\lib\\site-packages (from nltk) (1.3.2)\n",
      "Collecting regex>=2021.8.3 (from nltk)\n",
      "  Obtaining dependency information for regex>=2021.8.3 from https://files.pythonhosted.org/packages/1d/af/4bd17254cdda1d8092460ee5561f013c4ca9c33ecf1aab81b44280327cab/regex-2023.12.25-cp312-cp312-win_amd64.whl.metadata\n",
      "  Downloading regex-2023.12.25-cp312-cp312-win_amd64.whl.metadata (41 kB)\n",
      "     ---------------------------------------- 0.0/42.0 kB ? eta -:--:--\n",
      "     ---------------------------------------- 42.0/42.0 kB ? eta 0:00:00\n",
      "Requirement already satisfied: tqdm in c:\\users\\kirth\\appdata\\local\\programs\\python\\python312\\lib\\site-packages (from nltk) (4.66.1)\n",
      "Requirement already satisfied: colorama in c:\\users\\kirth\\appdata\\local\\programs\\python\\python312\\lib\\site-packages (from click->nltk) (0.4.6)\n",
      "Downloading regex-2023.12.25-cp312-cp312-win_amd64.whl (268 kB)\n",
      "   ---------------------------------------- 0.0/268.9 kB ? eta -:--:--\n",
      "   --------------------- ------------------ 143.4/268.9 kB 4.2 MB/s eta 0:00:01\n",
      "   ---------------------------------------- 268.9/268.9 kB 4.1 MB/s eta 0:00:00\n",
      "Using cached click-8.1.7-py3-none-any.whl (97 kB)\n",
      "Installing collected packages: regex, click, nltk\n",
      "Successfully installed click-8.1.7 nltk-3.8.1 regex-2023.12.25\n"
     ]
    },
    {
     "name": "stderr",
     "output_type": "stream",
     "text": [
      "\n",
      "[notice] A new release of pip is available: 23.2.1 -> 24.0\n",
      "[notice] To update, run: python.exe -m pip install --upgrade pip\n"
     ]
    }
   ],
   "source": [
    "!pip install nltk"
   ]
  },
  {
   "cell_type": "code",
   "execution_count": 168,
   "id": "899a35af-058b-47cd-aaca-2a7492710b7d",
   "metadata": {},
   "outputs": [],
   "source": [
    "import nltk\n",
    "from nltk.stem.porter import PorterStemmer\n",
    "ps = PorterStemmer()"
   ]
  },
  {
   "cell_type": "code",
   "execution_count": 174,
   "id": "8b5c98cb-7f67-4c18-93c4-3059ced61bc9",
   "metadata": {},
   "outputs": [],
   "source": [
    "def stem(text):\n",
    "    y=[]\n",
    "    for i in text.split():\n",
    "        y.append(ps.stem(i))\n",
    "    return \" \".join(y)  "
   ]
  },
  {
   "cell_type": "code",
   "execution_count": 175,
   "id": "c0d0fdac-a499-49b4-a555-fcd4d83fb383",
   "metadata": {},
   "outputs": [
    {
     "data": {
      "text/plain": [
       "'love'"
      ]
     },
     "execution_count": 175,
     "metadata": {},
     "output_type": "execute_result"
    }
   ],
   "source": [
    "ps.stem(\"loving\")"
   ]
  },
  {
   "cell_type": "code",
   "execution_count": 176,
   "id": "df74f517-29fe-4ab7-ab8b-2228231f6052",
   "metadata": {},
   "outputs": [
    {
     "data": {
      "text/plain": [
       "'in the 22nd century, a parapleg marin is dispatch to the moon pandora on a uniqu mission, but becom torn between follow order and protect an alien civilization. action adventur fantasi sciencefict cultureclash futur spacewar spacecoloni societi spacetravel futurist romanc space alien tribe alienplanet cgi marin soldier battl loveaffair antiwar powerrel mindandsoul 3d samworthington zoesaldana sigourneyweav'"
      ]
     },
     "execution_count": 176,
     "metadata": {},
     "output_type": "execute_result"
    }
   ],
   "source": [
    "stem('In the 22nd century, a paraplegic Marine is dispatched to the moon Pandora on a unique mission, but becomes torn between following orders and protecting an alien civilization. Action Adventure Fantasy ScienceFiction cultureclash future spacewar spacecolony society spacetravel futuristic romance space alien tribe alienplanet cgi marine soldier battle loveaffair antiwar powerrelations mindandsoul 3d SamWorthington ZoeSaldana SigourneyWeaver')"
   ]
  },
  {
   "cell_type": "code",
   "execution_count": 178,
   "id": "9c90bb51-c449-46e1-bd6f-582279161132",
   "metadata": {},
   "outputs": [
    {
     "name": "stderr",
     "output_type": "stream",
     "text": [
      "C:\\Users\\kirth\\AppData\\Local\\Temp\\ipykernel_15384\\3514595201.py:1: SettingWithCopyWarning: \n",
      "A value is trying to be set on a copy of a slice from a DataFrame.\n",
      "Try using .loc[row_indexer,col_indexer] = value instead\n",
      "\n",
      "See the caveats in the documentation: https://pandas.pydata.org/pandas-docs/stable/user_guide/indexing.html#returning-a-view-versus-a-copy\n",
      "  new_df['tags']=new_df['tags'].apply(stem)\n"
     ]
    }
   ],
   "source": [
    "new_df['tags']=new_df['tags'].apply(stem)"
   ]
  },
  {
   "cell_type": "code",
   "execution_count": 179,
   "id": "86895348-6ac2-4cff-a143-96c9750a7b17",
   "metadata": {},
   "outputs": [],
   "source": [
    "from sklearn.metrics.pairwise import cosine_similarity"
   ]
  },
  {
   "cell_type": "code",
   "execution_count": 181,
   "id": "4c9e514d-f7a8-4da6-908d-051c8a456cc3",
   "metadata": {},
   "outputs": [],
   "source": [
    "similarity=cosine_similarity(vectors)"
   ]
  },
  {
   "cell_type": "code",
   "execution_count": 187,
   "id": "e39554d3-9ffe-483a-ba5a-99601101fc67",
   "metadata": {},
   "outputs": [],
   "source": [
    "def recommend(movie):\n",
    "    movie_index=new_df[new_df[\"title\"]==movie].index[0]\n",
    "    distances=similarity[movie_index]\n",
    "    movies_list= sorted(list(enumerate(distances)),reverse=True,key=lambda x:x[1])[1:6]\n",
    "    for i in movies_list:\n",
    "        print(new_df.iloc[i[0]].title)\n",
    "    "
   ]
  },
  {
   "cell_type": "code",
   "execution_count": 192,
   "id": "7b36c139-e107-4b42-a795-9167b8138f78",
   "metadata": {},
   "outputs": [
    {
     "ename": "IndexError",
     "evalue": "index 0 is out of bounds for axis 0 with size 0",
     "output_type": "error",
     "traceback": [
      "\u001b[1;31m---------------------------------------------------------------------------\u001b[0m",
      "\u001b[1;31mIndexError\u001b[0m                                Traceback (most recent call last)",
      "Cell \u001b[1;32mIn[192], line 1\u001b[0m\n\u001b[1;32m----> 1\u001b[0m \u001b[43mrecommend\u001b[49m\u001b[43m(\u001b[49m\u001b[38;5;124;43m'\u001b[39;49m\u001b[38;5;124;43mHarry Potter\u001b[39;49m\u001b[38;5;124;43m'\u001b[39;49m\u001b[43m)\u001b[49m\n",
      "Cell \u001b[1;32mIn[187], line 2\u001b[0m, in \u001b[0;36mrecommend\u001b[1;34m(movie)\u001b[0m\n\u001b[0;32m      1\u001b[0m \u001b[38;5;28;01mdef\u001b[39;00m \u001b[38;5;21mrecommend\u001b[39m(movie):\n\u001b[1;32m----> 2\u001b[0m     movie_index\u001b[38;5;241m=\u001b[39m\u001b[43mnew_df\u001b[49m\u001b[43m[\u001b[49m\u001b[43mnew_df\u001b[49m\u001b[43m[\u001b[49m\u001b[38;5;124;43m\"\u001b[39;49m\u001b[38;5;124;43mtitle\u001b[39;49m\u001b[38;5;124;43m\"\u001b[39;49m\u001b[43m]\u001b[49m\u001b[38;5;241;43m==\u001b[39;49m\u001b[43mmovie\u001b[49m\u001b[43m]\u001b[49m\u001b[38;5;241;43m.\u001b[39;49m\u001b[43mindex\u001b[49m\u001b[43m[\u001b[49m\u001b[38;5;241;43m0\u001b[39;49m\u001b[43m]\u001b[49m\n\u001b[0;32m      3\u001b[0m     distances\u001b[38;5;241m=\u001b[39msimilarity[movie_index]\n\u001b[0;32m      4\u001b[0m     movies_list\u001b[38;5;241m=\u001b[39m \u001b[38;5;28msorted\u001b[39m(\u001b[38;5;28mlist\u001b[39m(\u001b[38;5;28menumerate\u001b[39m(distances)),reverse\u001b[38;5;241m=\u001b[39m\u001b[38;5;28;01mTrue\u001b[39;00m,key\u001b[38;5;241m=\u001b[39m\u001b[38;5;28;01mlambda\u001b[39;00m x:x[\u001b[38;5;241m1\u001b[39m])[\u001b[38;5;241m1\u001b[39m:\u001b[38;5;241m6\u001b[39m]\n",
      "File \u001b[1;32m~\\AppData\\Local\\Programs\\Python\\Python312\\Lib\\site-packages\\pandas\\core\\indexes\\base.py:5385\u001b[0m, in \u001b[0;36mIndex.__getitem__\u001b[1;34m(self, key)\u001b[0m\n\u001b[0;32m   5382\u001b[0m \u001b[38;5;28;01mif\u001b[39;00m is_integer(key) \u001b[38;5;129;01mor\u001b[39;00m is_float(key):\n\u001b[0;32m   5383\u001b[0m     \u001b[38;5;66;03m# GH#44051 exclude bool, which would return a 2d ndarray\u001b[39;00m\n\u001b[0;32m   5384\u001b[0m     key \u001b[38;5;241m=\u001b[39m com\u001b[38;5;241m.\u001b[39mcast_scalar_indexer(key)\n\u001b[1;32m-> 5385\u001b[0m     \u001b[38;5;28;01mreturn\u001b[39;00m \u001b[43mgetitem\u001b[49m\u001b[43m(\u001b[49m\u001b[43mkey\u001b[49m\u001b[43m)\u001b[49m\n\u001b[0;32m   5387\u001b[0m \u001b[38;5;28;01mif\u001b[39;00m \u001b[38;5;28misinstance\u001b[39m(key, \u001b[38;5;28mslice\u001b[39m):\n\u001b[0;32m   5388\u001b[0m     \u001b[38;5;66;03m# This case is separated from the conditional above to avoid\u001b[39;00m\n\u001b[0;32m   5389\u001b[0m     \u001b[38;5;66;03m# pessimization com.is_bool_indexer and ndim checks.\u001b[39;00m\n\u001b[0;32m   5390\u001b[0m     \u001b[38;5;28;01mreturn\u001b[39;00m \u001b[38;5;28mself\u001b[39m\u001b[38;5;241m.\u001b[39m_getitem_slice(key)\n",
      "\u001b[1;31mIndexError\u001b[0m: index 0 is out of bounds for axis 0 with size 0"
     ]
    }
   ],
   "source": [
    "recommend('Batman Begins')"
   ]
  },
  {
   "cell_type": "code",
   "execution_count": null,
   "id": "0d5d8767-f7bf-448e-a90d-248eb6a2766f",
   "metadata": {},
   "outputs": [],
   "source": []
  }
 ],
 "metadata": {
  "kernelspec": {
   "display_name": "Python 3 (ipykernel)",
   "language": "python",
   "name": "python3"
  },
  "language_info": {
   "codemirror_mode": {
    "name": "ipython",
    "version": 3
   },
   "file_extension": ".py",
   "mimetype": "text/x-python",
   "name": "python",
   "nbconvert_exporter": "python",
   "pygments_lexer": "ipython3",
   "version": "3.8.6"
  }
 },
 "nbformat": 4,
 "nbformat_minor": 5
}
